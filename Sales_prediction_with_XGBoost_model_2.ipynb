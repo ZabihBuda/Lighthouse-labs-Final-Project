{
  "nbformat": 4,
  "nbformat_minor": 0,
  "metadata": {
    "colab": {
      "name": "Sales_prediction_with_XGBoost_model-2.ipynb",
      "provenance": []
    },
    "kernelspec": {
      "display_name": "Python 3",
      "language": "python",
      "name": "python3"
    },
    "language_info": {
      "codemirror_mode": {
        "name": "ipython",
        "version": 3
      },
      "file_extension": ".py",
      "mimetype": "text/x-python",
      "name": "python",
      "nbconvert_exporter": "python",
      "pygments_lexer": "ipython3",
      "version": "3.8.5"
    }
  },
  "cells": [
    {
      "cell_type": "code",
      "metadata": {
        "id": "z3DACnE3MbHK"
      },
      "source": [
        "from datetime import datetime, timedelta,date\n",
        "import pandas as pd\n",
        "%matplotlib inline\n",
        "import matplotlib.pyplot as plt\n",
        "import seaborn as sns\n",
        "import numpy as np\n",
        "from numpy import log\n",
        "from sklearn.preprocessing import StandardScaler\n",
        "\n",
        "from sklearn.metrics import mean_squared_error, mean_absolute_error\n",
        "from xgboost import plot_importance, plot_tree\n",
        "\n",
        "from sklearn.metrics import r2_score\n",
        "from sklearn.model_selection import GridSearchCV\n",
        "import xgboost as xgb\n",
        "\n",
        "import warnings\n",
        "warnings.filterwarnings(\"ignore\")\n",
        "import copy\n",
        "pd.set_option('display.float_format', lambda x: '%.3f' % x)"
      ],
      "execution_count": 1,
      "outputs": []
    },
    {
      "cell_type": "code",
      "metadata": {
        "colab": {
          "base_uri": "https://localhost:8080/",
          "height": 445
        },
        "id": "8fsGznYOUl1d",
        "outputId": "91017133-e45a-4779-b784-3669871ec604"
      },
      "source": [
        "\n",
        "data=pd.read_csv('data_cleaned.csv', parse_dates=['date'], index_col=0)\n",
        "\n",
        "data.head(5)"
      ],
      "execution_count": 2,
      "outputs": [
        {
          "output_type": "execute_result",
          "data": {
            "text/html": [
              "<div>\n",
              "<style scoped>\n",
              "    .dataframe tbody tr th:only-of-type {\n",
              "        vertical-align: middle;\n",
              "    }\n",
              "\n",
              "    .dataframe tbody tr th {\n",
              "        vertical-align: top;\n",
              "    }\n",
              "\n",
              "    .dataframe thead th {\n",
              "        text-align: right;\n",
              "    }\n",
              "</style>\n",
              "<table border=\"1\" class=\"dataframe\">\n",
              "  <thead>\n",
              "    <tr style=\"text-align: right;\">\n",
              "      <th></th>\n",
              "      <th>order_id</th>\n",
              "      <th>date</th>\n",
              "      <th>item_code</th>\n",
              "      <th>quantity</th>\n",
              "      <th>unit_price_vat_excl</th>\n",
              "      <th>unit_cogs</th>\n",
              "      <th>net_revenue</th>\n",
              "      <th>gross_revenue</th>\n",
              "      <th>margin_revenue</th>\n",
              "      <th>country</th>\n",
              "      <th>item_name</th>\n",
              "      <th>style</th>\n",
              "      <th>name</th>\n",
              "      <th>group0</th>\n",
              "      <th>group1</th>\n",
              "      <th>category</th>\n",
              "    </tr>\n",
              "  </thead>\n",
              "  <tbody>\n",
              "    <tr>\n",
              "      <th>0</th>\n",
              "      <td>1900052301.000</td>\n",
              "      <td>2019-06-04</td>\n",
              "      <td>ZB00025746</td>\n",
              "      <td>1</td>\n",
              "      <td>9.412</td>\n",
              "      <td>0.000</td>\n",
              "      <td>9.412</td>\n",
              "      <td>0.000</td>\n",
              "      <td>9.412</td>\n",
              "      <td>Romania</td>\n",
              "      <td>YTH LEAGUE KNIT SHORT NB</td>\n",
              "      <td>725990-010</td>\n",
              "      <td>Nike</td>\n",
              "      <td>Apparel</td>\n",
              "      <td>Pants</td>\n",
              "      <td>football</td>\n",
              "    </tr>\n",
              "    <tr>\n",
              "      <th>1</th>\n",
              "      <td>1900100835.000</td>\n",
              "      <td>2019-07-15</td>\n",
              "      <td>ZB00025746</td>\n",
              "      <td>1</td>\n",
              "      <td>8.649</td>\n",
              "      <td>5.393</td>\n",
              "      <td>8.649</td>\n",
              "      <td>5.393</td>\n",
              "      <td>3.255</td>\n",
              "      <td>Czech Republic</td>\n",
              "      <td>YTH LEAGUE KNIT SHORT NB</td>\n",
              "      <td>725990-010</td>\n",
              "      <td>Nike</td>\n",
              "      <td>Apparel</td>\n",
              "      <td>Pants</td>\n",
              "      <td>football</td>\n",
              "    </tr>\n",
              "    <tr>\n",
              "      <th>2</th>\n",
              "      <td>1900106577.000</td>\n",
              "      <td>2019-07-24</td>\n",
              "      <td>ZB00025746</td>\n",
              "      <td>1</td>\n",
              "      <td>8.649</td>\n",
              "      <td>5.459</td>\n",
              "      <td>8.649</td>\n",
              "      <td>5.459</td>\n",
              "      <td>3.190</td>\n",
              "      <td>Czech Republic</td>\n",
              "      <td>YTH LEAGUE KNIT SHORT NB</td>\n",
              "      <td>725990-010</td>\n",
              "      <td>Nike</td>\n",
              "      <td>Apparel</td>\n",
              "      <td>Pants</td>\n",
              "      <td>football</td>\n",
              "    </tr>\n",
              "    <tr>\n",
              "      <th>3</th>\n",
              "      <td>1900111398.000</td>\n",
              "      <td>2019-08-01</td>\n",
              "      <td>ZB00025746</td>\n",
              "      <td>1</td>\n",
              "      <td>8.649</td>\n",
              "      <td>5.440</td>\n",
              "      <td>8.649</td>\n",
              "      <td>5.440</td>\n",
              "      <td>3.209</td>\n",
              "      <td>Czech Republic</td>\n",
              "      <td>YTH LEAGUE KNIT SHORT NB</td>\n",
              "      <td>725990-010</td>\n",
              "      <td>Nike</td>\n",
              "      <td>Apparel</td>\n",
              "      <td>Pants</td>\n",
              "      <td>football</td>\n",
              "    </tr>\n",
              "    <tr>\n",
              "      <th>4</th>\n",
              "      <td>1900052301.000</td>\n",
              "      <td>2019-06-04</td>\n",
              "      <td>ZB00022010</td>\n",
              "      <td>1</td>\n",
              "      <td>12.785</td>\n",
              "      <td>4.088</td>\n",
              "      <td>12.785</td>\n",
              "      <td>4.088</td>\n",
              "      <td>8.697</td>\n",
              "      <td>Romania</td>\n",
              "      <td>NK MERC LT GRD</td>\n",
              "      <td>sp2120-703</td>\n",
              "      <td>Nike</td>\n",
              "      <td>Equipment</td>\n",
              "      <td>Guards</td>\n",
              "      <td>football</td>\n",
              "    </tr>\n",
              "  </tbody>\n",
              "</table>\n",
              "</div>"
            ],
            "text/plain": [
              "        order_id       date   item_code  ...     group0  group1  category\n",
              "0 1900052301.000 2019-06-04  ZB00025746  ...    Apparel   Pants  football\n",
              "1 1900100835.000 2019-07-15  ZB00025746  ...    Apparel   Pants  football\n",
              "2 1900106577.000 2019-07-24  ZB00025746  ...    Apparel   Pants  football\n",
              "3 1900111398.000 2019-08-01  ZB00025746  ...    Apparel   Pants  football\n",
              "4 1900052301.000 2019-06-04  ZB00022010  ...  Equipment  Guards  football\n",
              "\n",
              "[5 rows x 16 columns]"
            ]
          },
          "metadata": {
            "tags": []
          },
          "execution_count": 2
        }
      ]
    },
    {
      "cell_type": "code",
      "metadata": {
        "id": "6ZVxR2SyUuQx"
      },
      "source": [
        "def select_series(data, time_period='day', revenue='net'):\n",
        "    time_periods = {\n",
        "        'day': 'D',\n",
        "        'week': 'W',\n",
        "        'month': 'MS'}\n",
        "    \n",
        "    revenue_cat = {\n",
        "        'net':'net_revenue',\n",
        "        'gross':'gross_revenue',\n",
        "        'margin':'margin_revenue'}\n",
        "    \n",
        "    data = data.set_index('date')\n",
        "    data = data[revenue_cat[revenue]].resample(time_periods[time_period]).sum()\n",
        "    data = pd.DataFrame(data).reset_index()\n",
        "    return data"
      ],
      "execution_count": null,
      "outputs": []
    },
    {
      "cell_type": "code",
      "metadata": {
        "colab": {
          "base_uri": "https://localhost:8080/",
          "height": 204
        },
        "id": "eN53zvLhU99F",
        "outputId": "df5a24d2-014b-4515-aff3-93790123a3da"
      },
      "source": [
        "daily_sales=select_series(data)\n",
        "daily_sales.columns=['date', 'sales']\n",
        "daily_sales.head()"
      ],
      "execution_count": null,
      "outputs": [
        {
          "output_type": "execute_result",
          "data": {
            "text/html": [
              "<div>\n",
              "<style scoped>\n",
              "    .dataframe tbody tr th:only-of-type {\n",
              "        vertical-align: middle;\n",
              "    }\n",
              "\n",
              "    .dataframe tbody tr th {\n",
              "        vertical-align: top;\n",
              "    }\n",
              "\n",
              "    .dataframe thead th {\n",
              "        text-align: right;\n",
              "    }\n",
              "</style>\n",
              "<table border=\"1\" class=\"dataframe\">\n",
              "  <thead>\n",
              "    <tr style=\"text-align: right;\">\n",
              "      <th></th>\n",
              "      <th>date</th>\n",
              "      <th>sales</th>\n",
              "    </tr>\n",
              "  </thead>\n",
              "  <tbody>\n",
              "    <tr>\n",
              "      <th>0</th>\n",
              "      <td>2019-06-01</td>\n",
              "      <td>27686.366</td>\n",
              "    </tr>\n",
              "    <tr>\n",
              "      <th>1</th>\n",
              "      <td>2019-06-02</td>\n",
              "      <td>3511.560</td>\n",
              "    </tr>\n",
              "    <tr>\n",
              "      <th>2</th>\n",
              "      <td>2019-06-03</td>\n",
              "      <td>7006.124</td>\n",
              "    </tr>\n",
              "    <tr>\n",
              "      <th>3</th>\n",
              "      <td>2019-06-04</td>\n",
              "      <td>80530.521</td>\n",
              "    </tr>\n",
              "    <tr>\n",
              "      <th>4</th>\n",
              "      <td>2019-06-05</td>\n",
              "      <td>86484.288</td>\n",
              "    </tr>\n",
              "  </tbody>\n",
              "</table>\n",
              "</div>"
            ],
            "text/plain": [
              "        date     sales\n",
              "0 2019-06-01 27686.366\n",
              "1 2019-06-02  3511.560\n",
              "2 2019-06-03  7006.124\n",
              "3 2019-06-04 80530.521\n",
              "4 2019-06-05 86484.288"
            ]
          },
          "metadata": {
            "tags": []
          },
          "execution_count": 38
        }
      ]
    },
    {
      "cell_type": "code",
      "metadata": {
        "id": "siimrgDsVBvb"
      },
      "source": [
        ""
      ],
      "execution_count": null,
      "outputs": []
    },
    {
      "cell_type": "code",
      "metadata": {
        "colab": {
          "base_uri": "https://localhost:8080/",
          "height": 297
        },
        "id": "EOyUso_GWP0C",
        "outputId": "637d96d6-c55d-48c5-aab2-3a6e783cbab2"
      },
      "source": [
        "# Let’s take a look into the basic statistics of our dataset\n",
        "daily_sales.describe()"
      ],
      "execution_count": null,
      "outputs": [
        {
          "output_type": "execute_result",
          "data": {
            "text/html": [
              "<div>\n",
              "<style scoped>\n",
              "    .dataframe tbody tr th:only-of-type {\n",
              "        vertical-align: middle;\n",
              "    }\n",
              "\n",
              "    .dataframe tbody tr th {\n",
              "        vertical-align: top;\n",
              "    }\n",
              "\n",
              "    .dataframe thead th {\n",
              "        text-align: right;\n",
              "    }\n",
              "</style>\n",
              "<table border=\"1\" class=\"dataframe\">\n",
              "  <thead>\n",
              "    <tr style=\"text-align: right;\">\n",
              "      <th></th>\n",
              "      <th>sales</th>\n",
              "    </tr>\n",
              "  </thead>\n",
              "  <tbody>\n",
              "    <tr>\n",
              "      <th>count</th>\n",
              "      <td>707.000</td>\n",
              "    </tr>\n",
              "    <tr>\n",
              "      <th>mean</th>\n",
              "      <td>57665.109</td>\n",
              "    </tr>\n",
              "    <tr>\n",
              "      <th>std</th>\n",
              "      <td>25543.759</td>\n",
              "    </tr>\n",
              "    <tr>\n",
              "      <th>min</th>\n",
              "      <td>169.507</td>\n",
              "    </tr>\n",
              "    <tr>\n",
              "      <th>25%</th>\n",
              "      <td>40163.517</td>\n",
              "    </tr>\n",
              "    <tr>\n",
              "      <th>50%</th>\n",
              "      <td>52106.057</td>\n",
              "    </tr>\n",
              "    <tr>\n",
              "      <th>75%</th>\n",
              "      <td>71965.858</td>\n",
              "    </tr>\n",
              "    <tr>\n",
              "      <th>max</th>\n",
              "      <td>223637.603</td>\n",
              "    </tr>\n",
              "  </tbody>\n",
              "</table>\n",
              "</div>"
            ],
            "text/plain": [
              "           sales\n",
              "count    707.000\n",
              "mean   57665.109\n",
              "std    25543.759\n",
              "min      169.507\n",
              "25%    40163.517\n",
              "50%    52106.057\n",
              "75%    71965.858\n",
              "max   223637.603"
            ]
          },
          "metadata": {
            "tags": []
          },
          "execution_count": 39
        }
      ]
    },
    {
      "cell_type": "code",
      "metadata": {
        "colab": {
          "base_uri": "https://localhost:8080/",
          "height": 324
        },
        "id": "seuidCWJWYbN",
        "outputId": "b08afb33-b8bf-4125-8ab9-5998315441fe"
      },
      "source": [
        "fig=plt.figure(figsize=(15, 8))\n",
        "daily_sales.plot('date', 'sales')\n",
        "plt.title('Daily Sales')\n",
        "plt.show()"
      ],
      "execution_count": null,
      "outputs": [
        {
          "output_type": "display_data",
          "data": {
            "text/plain": [
              "<Figure size 1080x576 with 0 Axes>"
            ]
          },
          "metadata": {
            "tags": []
          }
        },
        {
          "output_type": "display_data",
          "data": {
            "image/png": "[encoded data removed]",
            "text/plain": [
              "<Figure size 432x288 with 1 Axes>"
            ]
          },
          "metadata": {
            "tags": []
          }
        }
      ]
    },
    {
      "cell_type": "code",
      "metadata": {
        "colab": {
          "base_uri": "https://localhost:8080/",
          "height": 204
        },
        "id": "4GIuh5Sia3R7",
        "outputId": "1a77e143-2957-4583-f6f2-19bdeda6901e"
      },
      "source": [
        "daily_sales.head()"
      ],
      "execution_count": null,
      "outputs": [
        {
          "output_type": "execute_result",
          "data": {
            "text/html": [
              "<div>\n",
              "<style scoped>\n",
              "    .dataframe tbody tr th:only-of-type {\n",
              "        vertical-align: middle;\n",
              "    }\n",
              "\n",
              "    .dataframe tbody tr th {\n",
              "        vertical-align: top;\n",
              "    }\n",
              "\n",
              "    .dataframe thead th {\n",
              "        text-align: right;\n",
              "    }\n",
              "</style>\n",
              "<table border=\"1\" class=\"dataframe\">\n",
              "  <thead>\n",
              "    <tr style=\"text-align: right;\">\n",
              "      <th></th>\n",
              "      <th>date</th>\n",
              "      <th>sales</th>\n",
              "    </tr>\n",
              "  </thead>\n",
              "  <tbody>\n",
              "    <tr>\n",
              "      <th>0</th>\n",
              "      <td>2019-06-01</td>\n",
              "      <td>27686.366</td>\n",
              "    </tr>\n",
              "    <tr>\n",
              "      <th>1</th>\n",
              "      <td>2019-06-02</td>\n",
              "      <td>3511.560</td>\n",
              "    </tr>\n",
              "    <tr>\n",
              "      <th>2</th>\n",
              "      <td>2019-06-03</td>\n",
              "      <td>7006.124</td>\n",
              "    </tr>\n",
              "    <tr>\n",
              "      <th>3</th>\n",
              "      <td>2019-06-04</td>\n",
              "      <td>80530.521</td>\n",
              "    </tr>\n",
              "    <tr>\n",
              "      <th>4</th>\n",
              "      <td>2019-06-05</td>\n",
              "      <td>86484.288</td>\n",
              "    </tr>\n",
              "  </tbody>\n",
              "</table>\n",
              "</div>"
            ],
            "text/plain": [
              "        date     sales\n",
              "0 2019-06-01 27686.366\n",
              "1 2019-06-02  3511.560\n",
              "2 2019-06-03  7006.124\n",
              "3 2019-06-04 80530.521\n",
              "4 2019-06-05 86484.288"
            ]
          },
          "metadata": {
            "tags": []
          },
          "execution_count": 41
        }
      ]
    },
    {
      "cell_type": "code",
      "metadata": {
        "id": "HCKdQVl9Wqo3"
      },
      "source": [
        "daily_sales['Date']=pd.to_datetime(daily_sales['date']).dt.date"
      ],
      "execution_count": null,
      "outputs": []
    },
    {
      "cell_type": "code",
      "metadata": {
        "id": "q6_PC1m8cWGO"
      },
      "source": [
        "#train_df.reset_index('date', inplace=True)"
      ],
      "execution_count": null,
      "outputs": []
    },
    {
      "cell_type": "code",
      "metadata": {
        "colab": {
          "base_uri": "https://localhost:8080/",
          "height": 235
        },
        "id": "rL43RINtY_9J",
        "outputId": "30814626-2793-43b1-fa72-50c0e43f0d70"
      },
      "source": [
        "# Creating time-series features for XGBoost\n",
        "daily_sales.set_index('date', inplace=True)\n",
        "daily_sales['Year']=pd.to_datetime(daily_sales['Date']).dt.year\n",
        "daily_sales['Week'] = pd.to_datetime(daily_sales['Date']).dt.week\n",
        "daily_sales['Day'] = pd.to_datetime(daily_sales['Date']).dt.day\n",
        "daily_sales['WeekDay'] = pd.to_datetime(daily_sales['Date']).dt.dayofweek\n",
        "daily_sales['Weekend'] = daily_sales.WeekDay.isin([5, 6]).astype(int)\n",
        "daily_sales.head()"
      ],
      "execution_count": null,
      "outputs": [
        {
          "output_type": "execute_result",
          "data": {
            "text/html": [
              "<div>\n",
              "<style scoped>\n",
              "    .dataframe tbody tr th:only-of-type {\n",
              "        vertical-align: middle;\n",
              "    }\n",
              "\n",
              "    .dataframe tbody tr th {\n",
              "        vertical-align: top;\n",
              "    }\n",
              "\n",
              "    .dataframe thead th {\n",
              "        text-align: right;\n",
              "    }\n",
              "</style>\n",
              "<table border=\"1\" class=\"dataframe\">\n",
              "  <thead>\n",
              "    <tr style=\"text-align: right;\">\n",
              "      <th></th>\n",
              "      <th>sales</th>\n",
              "      <th>Date</th>\n",
              "      <th>Year</th>\n",
              "      <th>Week</th>\n",
              "      <th>Day</th>\n",
              "      <th>WeekDay</th>\n",
              "      <th>Weekend</th>\n",
              "    </tr>\n",
              "    <tr>\n",
              "      <th>date</th>\n",
              "      <th></th>\n",
              "      <th></th>\n",
              "      <th></th>\n",
              "      <th></th>\n",
              "      <th></th>\n",
              "      <th></th>\n",
              "      <th></th>\n",
              "    </tr>\n",
              "  </thead>\n",
              "  <tbody>\n",
              "    <tr>\n",
              "      <th>2019-06-01</th>\n",
              "      <td>27686.366</td>\n",
              "      <td>2019-06-01</td>\n",
              "      <td>2019</td>\n",
              "      <td>22</td>\n",
              "      <td>1</td>\n",
              "      <td>5</td>\n",
              "      <td>1</td>\n",
              "    </tr>\n",
              "    <tr>\n",
              "      <th>2019-06-02</th>\n",
              "      <td>3511.560</td>\n",
              "      <td>2019-06-02</td>\n",
              "      <td>2019</td>\n",
              "      <td>22</td>\n",
              "      <td>2</td>\n",
              "      <td>6</td>\n",
              "      <td>1</td>\n",
              "    </tr>\n",
              "    <tr>\n",
              "      <th>2019-06-03</th>\n",
              "      <td>7006.124</td>\n",
              "      <td>2019-06-03</td>\n",
              "      <td>2019</td>\n",
              "      <td>23</td>\n",
              "      <td>3</td>\n",
              "      <td>0</td>\n",
              "      <td>0</td>\n",
              "    </tr>\n",
              "    <tr>\n",
              "      <th>2019-06-04</th>\n",
              "      <td>80530.521</td>\n",
              "      <td>2019-06-04</td>\n",
              "      <td>2019</td>\n",
              "      <td>23</td>\n",
              "      <td>4</td>\n",
              "      <td>1</td>\n",
              "      <td>0</td>\n",
              "    </tr>\n",
              "    <tr>\n",
              "      <th>2019-06-05</th>\n",
              "      <td>86484.288</td>\n",
              "      <td>2019-06-05</td>\n",
              "      <td>2019</td>\n",
              "      <td>23</td>\n",
              "      <td>5</td>\n",
              "      <td>2</td>\n",
              "      <td>0</td>\n",
              "    </tr>\n",
              "  </tbody>\n",
              "</table>\n",
              "</div>"
            ],
            "text/plain": [
              "               sales        Date  Year  Week  Day  WeekDay  Weekend\n",
              "date                                                               \n",
              "2019-06-01 27686.366  2019-06-01  2019    22    1        5        1\n",
              "2019-06-02  3511.560  2019-06-02  2019    22    2        6        1\n",
              "2019-06-03  7006.124  2019-06-03  2019    23    3        0        0\n",
              "2019-06-04 80530.521  2019-06-04  2019    23    4        1        0\n",
              "2019-06-05 86484.288  2019-06-05  2019    23    5        2        0"
            ]
          },
          "metadata": {
            "tags": []
          },
          "execution_count": 44
        }
      ]
    },
    {
      "cell_type": "code",
      "metadata": {
        "colab": {
          "base_uri": "https://localhost:8080/",
          "height": 235
        },
        "id": "DC4NsTDWZhe9",
        "outputId": "db399b5d-f23c-4f3b-b3dd-f7ee494c5131"
      },
      "source": [
        "# lets check their correlation\n",
        "daily_sales.corr()"
      ],
      "execution_count": null,
      "outputs": [
        {
          "output_type": "execute_result",
          "data": {
            "text/html": [
              "<div>\n",
              "<style scoped>\n",
              "    .dataframe tbody tr th:only-of-type {\n",
              "        vertical-align: middle;\n",
              "    }\n",
              "\n",
              "    .dataframe tbody tr th {\n",
              "        vertical-align: top;\n",
              "    }\n",
              "\n",
              "    .dataframe thead th {\n",
              "        text-align: right;\n",
              "    }\n",
              "</style>\n",
              "<table border=\"1\" class=\"dataframe\">\n",
              "  <thead>\n",
              "    <tr style=\"text-align: right;\">\n",
              "      <th></th>\n",
              "      <th>sales</th>\n",
              "      <th>Year</th>\n",
              "      <th>Week</th>\n",
              "      <th>Day</th>\n",
              "      <th>WeekDay</th>\n",
              "      <th>Weekend</th>\n",
              "    </tr>\n",
              "  </thead>\n",
              "  <tbody>\n",
              "    <tr>\n",
              "      <th>sales</th>\n",
              "      <td>1.000</td>\n",
              "      <td>0.533</td>\n",
              "      <td>-0.027</td>\n",
              "      <td>-0.040</td>\n",
              "      <td>-0.115</td>\n",
              "      <td>-0.062</td>\n",
              "    </tr>\n",
              "    <tr>\n",
              "      <th>Year</th>\n",
              "      <td>0.533</td>\n",
              "      <td>1.000</td>\n",
              "      <td>-0.571</td>\n",
              "      <td>-0.030</td>\n",
              "      <td>0.001</td>\n",
              "      <td>-0.005</td>\n",
              "    </tr>\n",
              "    <tr>\n",
              "      <th>Week</th>\n",
              "      <td>-0.027</td>\n",
              "      <td>-0.571</td>\n",
              "      <td>1.000</td>\n",
              "      <td>0.059</td>\n",
              "      <td>0.001</td>\n",
              "      <td>0.001</td>\n",
              "    </tr>\n",
              "    <tr>\n",
              "      <th>Day</th>\n",
              "      <td>-0.040</td>\n",
              "      <td>-0.030</td>\n",
              "      <td>0.059</td>\n",
              "      <td>1.000</td>\n",
              "      <td>0.011</td>\n",
              "      <td>0.005</td>\n",
              "    </tr>\n",
              "    <tr>\n",
              "      <th>WeekDay</th>\n",
              "      <td>-0.115</td>\n",
              "      <td>0.001</td>\n",
              "      <td>0.001</td>\n",
              "      <td>0.011</td>\n",
              "      <td>1.000</td>\n",
              "      <td>0.791</td>\n",
              "    </tr>\n",
              "    <tr>\n",
              "      <th>Weekend</th>\n",
              "      <td>-0.062</td>\n",
              "      <td>-0.005</td>\n",
              "      <td>0.001</td>\n",
              "      <td>0.005</td>\n",
              "      <td>0.791</td>\n",
              "      <td>1.000</td>\n",
              "    </tr>\n",
              "  </tbody>\n",
              "</table>\n",
              "</div>"
            ],
            "text/plain": [
              "         sales   Year   Week    Day  WeekDay  Weekend\n",
              "sales    1.000  0.533 -0.027 -0.040   -0.115   -0.062\n",
              "Year     0.533  1.000 -0.571 -0.030    0.001   -0.005\n",
              "Week    -0.027 -0.571  1.000  0.059    0.001    0.001\n",
              "Day     -0.040 -0.030  0.059  1.000    0.011    0.005\n",
              "WeekDay -0.115  0.001  0.001  0.011    1.000    0.791\n",
              "Weekend -0.062 -0.005  0.001  0.005    0.791    1.000"
            ]
          },
          "metadata": {
            "tags": []
          },
          "execution_count": 45
        }
      ]
    },
    {
      "cell_type": "code",
      "metadata": {
        "colab": {
          "base_uri": "https://localhost:8080/",
          "height": 442
        },
        "id": "_TwkC0sRb3ey",
        "outputId": "58b747f7-9d0d-4892-df69-8893210d11a4"
      },
      "source": [
        "fig=plt.subplots(figsize=(16, 7))\n",
        "sns.boxplot(daily_sales['Day'], daily_sales['sales'])\n",
        "plt.show()"
      ],
      "execution_count": null,
      "outputs": [
        {
          "output_type": "display_data",
          "data": {
            "image/png": "[encoded data removed]",
            "text/plain": [
              "<Figure size 1152x504 with 1 Axes>"
            ]
          },
          "metadata": {
            "tags": []
          }
        }
      ]
    },
    {
      "cell_type": "code",
      "metadata": {
        "colab": {
          "base_uri": "https://localhost:8080/",
          "height": 442
        },
        "id": "WRTlPgpNfz5I",
        "outputId": "6830399b-dd64-4951-89e0-74575ea9d706"
      },
      "source": [
        "# let's see if there is any outlier\n",
        "fig=plt.subplots(figsize=(16, 7))\n",
        "sns.boxplot(x=daily_sales['sales'])\n",
        "plt.show()"
      ],
      "execution_count": null,
      "outputs": [
        {
          "output_type": "display_data",
          "data": {
            "image/png": "[encoded data removed]",
            "text/plain": [
              "<Figure size 1152x504 with 1 Axes>"
            ]
          },
          "metadata": {
            "tags": []
          }
        }
      ]
    },
    {
      "cell_type": "code",
      "metadata": {
        "colab": {
          "base_uri": "https://localhost:8080/",
          "height": 442
        },
        "id": "-KwpzA5ugJnY",
        "outputId": "02ebb0e9-1e19-44f3-fd31-5dd3eec79ec2"
      },
      "source": [
        "fig=plt.subplots(figsize=(16, 7))\n",
        "sns.boxplot(daily_sales['Week'], daily_sales['sales'])\n",
        "plt.show()"
      ],
      "execution_count": null,
      "outputs": [
        {
          "output_type": "display_data",
          "data": {
            "image/png": "[encoded data removed]",
            "text/plain": [
              "<Figure size 1152x504 with 1 Axes>"
            ]
          },
          "metadata": {
            "tags": []
          }
        }
      ]
    },
    {
      "cell_type": "markdown",
      "metadata": {
        "id": "BdouZ0FWhg5G"
      },
      "source": [
        "It seems like there is a yearly seasonality. So, a feature should capture it. \n"
      ]
    },
    {
      "cell_type": "code",
      "metadata": {
        "colab": {
          "base_uri": "https://localhost:8080/"
        },
        "id": "-jiHAqr8hC4G",
        "outputId": "ffc70966-569e-4e34-cabf-fbd06fb574cd"
      },
      "source": [
        "train_df=daily_sales[:int(daily_sales.shape[0]*0.90)]\n",
        "test_df=daily_sales[int(daily_sales.shape[0]*0.90):]\n",
        "print(train_df.shape)\n",
        "print(test_df.shape)"
      ],
      "execution_count": null,
      "outputs": [
        {
          "output_type": "stream",
          "text": [
            "(636, 7)\n",
            "(71, 7)\n"
          ],
          "name": "stdout"
        }
      ]
    },
    {
      "cell_type": "markdown",
      "metadata": {
        "id": "20lxh0L9oqrC"
      },
      "source": [
        "There was weekly seasonality. So, let's create some features to capture them.\n"
      ]
    },
    {
      "cell_type": "code",
      "metadata": {
        "id": "nEVODsCfkROF"
      },
      "source": [
        "#Let's create time series features for the model\n",
        "def create_features(df, label=None):\n",
        " df['date'] = df.index\n",
        " df['hour'] = df['date'].dt.hour\n",
        " df['dayofweek'] = df['date'].dt.dayofweek\n",
        " df['quarter'] = df['date'].dt.quarter\n",
        " df['month'] = df['date'].dt.month\n",
        " df['year'] = df['date'].dt.year\n",
        " df['dayofyear'] = df['date'].dt.dayofyear\n",
        " df['dayofmonth'] = df['date'].dt.day\n",
        " df['weekofyear'] = df['date'].dt.weekofyear\n",
        " X = df[['dayofweek', 'quarter', 'month', 'year', 'dayofyear', 'dayofmonth', 'weekofyear']]\n",
        " if label:\n",
        "   y = df[label]\n",
        "   return X, y\n",
        " return X\n",
        "X_train, y_train = create_features(train_df, label='sales')\n",
        "X_test, y_test = create_features(test_df, label='sales')"
      ],
      "execution_count": null,
      "outputs": []
    },
    {
      "cell_type": "code",
      "metadata": {
        "colab": {
          "base_uri": "https://localhost:8080/",
          "height": 235
        },
        "id": "jQItAnSrocPC",
        "outputId": "e524da13-7516-463f-a0a2-6634d081ce1c"
      },
      "source": [
        "X_train.head()"
      ],
      "execution_count": null,
      "outputs": [
        {
          "output_type": "execute_result",
          "data": {
            "text/html": [
              "<div>\n",
              "<style scoped>\n",
              "    .dataframe tbody tr th:only-of-type {\n",
              "        vertical-align: middle;\n",
              "    }\n",
              "\n",
              "    .dataframe tbody tr th {\n",
              "        vertical-align: top;\n",
              "    }\n",
              "\n",
              "    .dataframe thead th {\n",
              "        text-align: right;\n",
              "    }\n",
              "</style>\n",
              "<table border=\"1\" class=\"dataframe\">\n",
              "  <thead>\n",
              "    <tr style=\"text-align: right;\">\n",
              "      <th></th>\n",
              "      <th>dayofweek</th>\n",
              "      <th>quarter</th>\n",
              "      <th>month</th>\n",
              "      <th>year</th>\n",
              "      <th>dayofyear</th>\n",
              "      <th>dayofmonth</th>\n",
              "      <th>weekofyear</th>\n",
              "    </tr>\n",
              "    <tr>\n",
              "      <th>date</th>\n",
              "      <th></th>\n",
              "      <th></th>\n",
              "      <th></th>\n",
              "      <th></th>\n",
              "      <th></th>\n",
              "      <th></th>\n",
              "      <th></th>\n",
              "    </tr>\n",
              "  </thead>\n",
              "  <tbody>\n",
              "    <tr>\n",
              "      <th>2019-06-01</th>\n",
              "      <td>5</td>\n",
              "      <td>2</td>\n",
              "      <td>6</td>\n",
              "      <td>2019</td>\n",
              "      <td>152</td>\n",
              "      <td>1</td>\n",
              "      <td>22</td>\n",
              "    </tr>\n",
              "    <tr>\n",
              "      <th>2019-06-02</th>\n",
              "      <td>6</td>\n",
              "      <td>2</td>\n",
              "      <td>6</td>\n",
              "      <td>2019</td>\n",
              "      <td>153</td>\n",
              "      <td>2</td>\n",
              "      <td>22</td>\n",
              "    </tr>\n",
              "    <tr>\n",
              "      <th>2019-06-03</th>\n",
              "      <td>0</td>\n",
              "      <td>2</td>\n",
              "      <td>6</td>\n",
              "      <td>2019</td>\n",
              "      <td>154</td>\n",
              "      <td>3</td>\n",
              "      <td>23</td>\n",
              "    </tr>\n",
              "    <tr>\n",
              "      <th>2019-06-04</th>\n",
              "      <td>1</td>\n",
              "      <td>2</td>\n",
              "      <td>6</td>\n",
              "      <td>2019</td>\n",
              "      <td>155</td>\n",
              "      <td>4</td>\n",
              "      <td>23</td>\n",
              "    </tr>\n",
              "    <tr>\n",
              "      <th>2019-06-05</th>\n",
              "      <td>2</td>\n",
              "      <td>2</td>\n",
              "      <td>6</td>\n",
              "      <td>2019</td>\n",
              "      <td>156</td>\n",
              "      <td>5</td>\n",
              "      <td>23</td>\n",
              "    </tr>\n",
              "  </tbody>\n",
              "</table>\n",
              "</div>"
            ],
            "text/plain": [
              "            dayofweek  quarter  month  year  dayofyear  dayofmonth  weekofyear\n",
              "date                                                                          \n",
              "2019-06-01          5        2      6  2019        152           1          22\n",
              "2019-06-02          6        2      6  2019        153           2          22\n",
              "2019-06-03          0        2      6  2019        154           3          23\n",
              "2019-06-04          1        2      6  2019        155           4          23\n",
              "2019-06-05          2        2      6  2019        156           5          23"
            ]
          },
          "metadata": {
            "tags": []
          },
          "execution_count": 51
        }
      ]
    },
    {
      "cell_type": "code",
      "metadata": {
        "colab": {
          "base_uri": "https://localhost:8080/"
        },
        "id": "UjryzTlT6QVX",
        "outputId": "d57458a6-59cf-446b-cc95-12eefcd7be87"
      },
      "source": [
        "y_train.head()"
      ],
      "execution_count": null,
      "outputs": [
        {
          "output_type": "execute_result",
          "data": {
            "text/plain": [
              "date\n",
              "2019-06-01   27686.366\n",
              "2019-06-02    3511.560\n",
              "2019-06-03    7006.124\n",
              "2019-06-04   80530.521\n",
              "2019-06-05   86484.288\n",
              "Name: sales, dtype: float64"
            ]
          },
          "metadata": {
            "tags": []
          },
          "execution_count": 52
        }
      ]
    },
    {
      "cell_type": "code",
      "metadata": {
        "colab": {
          "background_save": true
        },
        "id": "z8GQ-6zq6XTb",
        "outputId": "1b906efa-127e-48a5-96e1-a2687704d5e7"
      },
      "source": [
        "# Training the XGBoost model\n",
        "# A parameter grid for XGBoost\n",
        "params = {\n",
        "    'min_child_weight': [4, 5],\n",
        "    'gamma': [i / 10.0 for i in range(3, 6)],\n",
        "    'subsample': [i / 10.0 for i in range(6, 11)],\n",
        "    'colsample_bytree': [i / 10.0 for i in range(6, 11)],\n",
        "    'max_depth': [2, 3, 4, 8]\n",
        "}\n",
        "# Initialize XGB and GridSearch\n",
        "xgb_reg = xgb.XGBRegressor( objective='reg:squarederror', n_estimators=1000)\n",
        "grid = GridSearchCV(xgb_reg, params)\n",
        "grid.fit(X_train, y_train)\n",
        "gridcv_xgb = grid.best_estimator_\n",
        "gridcv_xgb\n",
        "print(r2_score(y_test, gridcv_xgb.predict(X_test)))"
      ],
      "execution_count": null,
      "outputs": [
        {
          "output_type": "stream",
          "text": [
            "-0.3935113833547088\n"
          ],
          "name": "stdout"
        }
      ]
    },
    {
      "cell_type": "code",
      "metadata": {
        "colab": {
          "background_save": true
        },
        "id": "kJDYwdas67EM",
        "outputId": "ed9606ed-fccf-4674-e2b5-0ea897c70e8f"
      },
      "source": [
        "#Let's take a look into feature importance\n",
        "\n",
        "_=plot_importance(gridcv_xgb, height=1.5)"
      ],
      "execution_count": null,
      "outputs": [
        {
          "output_type": "display_data",
          "data": {
            "image/png": "[encoded data removed]",
            "text/plain": [
              "<Figure size 432x288 with 1 Axes>"
            ]
          },
          "metadata": {
            "tags": []
          }
        }
      ]
    },
    {
      "cell_type": "code",
      "metadata": {
        "colab": {
          "background_save": true
        },
        "id": "RfmBXeco7fuI",
        "outputId": "62c26fbc-ff87-4050-d36c-5711e7ede542"
      },
      "source": [
        "# Evaluate the model\n",
        "test_df['Prediction']=gridcv_xgb.predict(X_test)\n",
        "comp_df=pd.concat([test_df, train_df], sort=False)\n",
        "_=comp_df[['sales', 'Prediction']].plot(figsize=(15, 6))"
      ],
      "execution_count": null,
      "outputs": [
        {
          "output_type": "display_data",
          "data": {
            "image/png": "[encoded data removed]",
            "text/plain": [
              "<Figure size 1080x432 with 1 Axes>"
            ]
          },
          "metadata": {
            "tags": []
          }
        }
      ]
    },
    {
      "cell_type": "code",
      "metadata": {
        "colab": {
          "background_save": true
        },
        "id": "W3wVuD2Y9KR_",
        "outputId": "398920fa-6d1e-41ab-9a98-03d0fe4522c9"
      },
      "source": [
        "# Model Evaluation \n",
        "def mean_absolute_percentage_error(y_true, y_pred): \n",
        "  #Calculates MAPE given y_true and y_pred\n",
        "  y_true, y_pred = np.array(y_true), np.array(y_pred)\n",
        "  return np.mean(np.abs((y_true-y_pred) / y_true)) * 100\n",
        "  \n",
        "mean_absolute_percentage_error(y_true=test_df['sales'], y_pred=test_df['Prediction'])"
      ],
      "execution_count": null,
      "outputs": [
        {
          "output_type": "execute_result",
          "data": {
            "text/plain": [
              "16.97552377271444"
            ]
          },
          "metadata": {
            "tags": []
          },
          "execution_count": 0
        }
      ]
    },
    {
      "cell_type": "markdown",
      "metadata": {
        "id": "ihLdzb1HH-qH"
      },
      "source": [
        "Let's remove some features from x_train and see if it improves the model's performance\n"
      ]
    },
    {
      "cell_type": "code",
      "metadata": {
        "colab": {
          "base_uri": "https://localhost:8080/",
          "height": 235
        },
        "id": "BaVR1cQrHO94",
        "outputId": "a2bf0ccf-a850-413e-c32a-81b83e8f8b47"
      },
      "source": [
        ""
      ],
      "execution_count": null,
      "outputs": [
        {
          "output_type": "execute_result",
          "data": {
            "text/html": [
              "<div>\n",
              "<style scoped>\n",
              "    .dataframe tbody tr th:only-of-type {\n",
              "        vertical-align: middle;\n",
              "    }\n",
              "\n",
              "    .dataframe tbody tr th {\n",
              "        vertical-align: top;\n",
              "    }\n",
              "\n",
              "    .dataframe thead th {\n",
              "        text-align: right;\n",
              "    }\n",
              "</style>\n",
              "<table border=\"1\" class=\"dataframe\">\n",
              "  <thead>\n",
              "    <tr style=\"text-align: right;\">\n",
              "      <th></th>\n",
              "      <th>dayofweek</th>\n",
              "      <th>quarter</th>\n",
              "      <th>month</th>\n",
              "      <th>year</th>\n",
              "      <th>dayofyear</th>\n",
              "      <th>dayofmonth</th>\n",
              "      <th>weekofyear</th>\n",
              "    </tr>\n",
              "    <tr>\n",
              "      <th>date</th>\n",
              "      <th></th>\n",
              "      <th></th>\n",
              "      <th></th>\n",
              "      <th></th>\n",
              "      <th></th>\n",
              "      <th></th>\n",
              "      <th></th>\n",
              "    </tr>\n",
              "  </thead>\n",
              "  <tbody>\n",
              "    <tr>\n",
              "      <th>2021-02-26</th>\n",
              "      <td>4</td>\n",
              "      <td>1</td>\n",
              "      <td>2</td>\n",
              "      <td>2021</td>\n",
              "      <td>57</td>\n",
              "      <td>26</td>\n",
              "      <td>8</td>\n",
              "    </tr>\n",
              "    <tr>\n",
              "      <th>2021-02-27</th>\n",
              "      <td>5</td>\n",
              "      <td>1</td>\n",
              "      <td>2</td>\n",
              "      <td>2021</td>\n",
              "      <td>58</td>\n",
              "      <td>27</td>\n",
              "      <td>8</td>\n",
              "    </tr>\n",
              "    <tr>\n",
              "      <th>2021-02-28</th>\n",
              "      <td>6</td>\n",
              "      <td>1</td>\n",
              "      <td>2</td>\n",
              "      <td>2021</td>\n",
              "      <td>59</td>\n",
              "      <td>28</td>\n",
              "      <td>8</td>\n",
              "    </tr>\n",
              "    <tr>\n",
              "      <th>2021-03-01</th>\n",
              "      <td>0</td>\n",
              "      <td>1</td>\n",
              "      <td>3</td>\n",
              "      <td>2021</td>\n",
              "      <td>60</td>\n",
              "      <td>1</td>\n",
              "      <td>9</td>\n",
              "    </tr>\n",
              "    <tr>\n",
              "      <th>2021-03-02</th>\n",
              "      <td>1</td>\n",
              "      <td>1</td>\n",
              "      <td>3</td>\n",
              "      <td>2021</td>\n",
              "      <td>61</td>\n",
              "      <td>2</td>\n",
              "      <td>9</td>\n",
              "    </tr>\n",
              "  </tbody>\n",
              "</table>\n",
              "</div>"
            ],
            "text/plain": [
              "            dayofweek  quarter  month  year  dayofyear  dayofmonth  weekofyear\n",
              "date                                                                          \n",
              "2021-02-26          4        1      2  2021         57          26           8\n",
              "2021-02-27          5        1      2  2021         58          27           8\n",
              "2021-02-28          6        1      2  2021         59          28           8\n",
              "2021-03-01          0        1      3  2021         60           1           9\n",
              "2021-03-02          1        1      3  2021         61           2           9"
            ]
          },
          "metadata": {
            "tags": []
          },
          "execution_count": 58
        }
      ]
    },
    {
      "cell_type": "code",
      "metadata": {
        "id": "7Dc1f-npIB79"
      },
      "source": [
        "def create_features(df, label=None):\n",
        "    df['date'] = df.index\n",
        "    df['hour'] = df['date'].dt.hour\n",
        "    df['dayofweek'] = df['date'].dt.dayofweek\n",
        "    df['dayofyear'] = df['date'].dt.dayofyear\n",
        "    df['dayofmonth'] = df['date'].dt.day\n",
        "    X = df[['dayofweek', 'dayofyear', 'dayofmonth']]\n",
        "    if label:\n",
        "        y = df[label]\n",
        "        return X, y\n",
        "    return X\n",
        "X_train_new, y_train_new = create_features(train_df, label='sales')\n",
        "X_test_new, y_test_new = create_features(test_df, label='sales')"
      ],
      "execution_count": null,
      "outputs": []
    },
    {
      "cell_type": "code",
      "metadata": {
        "colab": {
          "base_uri": "https://localhost:8080/"
        },
        "id": "152pB7RWIWtH",
        "outputId": "763711c5-46be-45ea-8bd7-972d08e94e87"
      },
      "source": [
        "# Training the XGBoost model without less importance features\n",
        "# A parameter grid for XGBoost\n",
        "params = {\n",
        "    'min_child_weight': [4, 5],\n",
        "    'gamma': [i / 10.0 for i in range(3, 6)],\n",
        "    'subsample': [i / 10.0 for i in range(6, 11)],\n",
        "    'colsample_bytree': [i / 10.0 for i in range(6, 11)],\n",
        "    'max_depth': [2, 3, 4, 8]\n",
        "}\n",
        "# Initialize XGB and GridSearch\n",
        "xgb_reg = xgb.XGBRegressor( objective='reg:squarederror', n_estimators=1000)\n",
        "grid = GridSearchCV(xgb_reg, params)\n",
        "grid.fit(X_train_new, y_train_new)\n",
        "gridcv_xgb = grid.best_estimator_\n",
        "gridcv_xgb\n",
        "print(r2_score(y_test_new, gridcv_xgb.predict(X_test_new)))"
      ],
      "execution_count": null,
      "outputs": [
        {
          "output_type": "stream",
          "text": [
            "-10.313017549795664\n"
          ],
          "name": "stdout"
        }
      ]
    },
    {
      "cell_type": "code",
      "metadata": {
        "colab": {
          "base_uri": "https://localhost:8080/",
          "height": 375
        },
        "id": "c35clOytIxcP",
        "outputId": "cbe44023-a9de-4d5d-9275-beef27603cdd"
      },
      "source": [
        "# Evaluate the model once again\n",
        "test_df['Prediction']=gridcv_xgb.predict(X_test_new)\n",
        "comp_df=pd.concat([test_df, train_df], sort=False)\n",
        "_=comp_df[['sales', 'Prediction']].plot(figsize=(15, 6))"
      ],
      "execution_count": null,
      "outputs": [
        {
          "output_type": "display_data",
          "data": {
            "image/png": "[encoded data removed]",
            "text/plain": [
              "<Figure size 1080x432 with 1 Axes>"
            ]
          },
          "metadata": {
            "tags": [],
            "needs_background": "light"
          }
        }
      ]
    },
    {
      "cell_type": "code",
      "metadata": {
        "colab": {
          "base_uri": "https://localhost:8080/"
        },
        "id": "2UyimxJHX3vR",
        "outputId": "349c971c-40dd-4ffd-ae1d-6906ab8443b3"
      },
      "source": [
        "def mean_absolute_percentage_error(y_true, y_pred): \n",
        "  #Calculates MAPE given y_true and y_pred\n",
        "  y_true, y_pred = np.array(y_true), np.array(y_pred)\n",
        "    return np.mean(np.abs((y_true-y_pred) / y_true)) * 100\n",
        "  \n",
        "mean_absolute_percentage_error(y_true=test_df['sales'], y_pred=test_df['Prediction'])"
      ],
      "execution_count": null,
      "outputs": [
        {
          "output_type": "execute_result",
          "data": {
            "text/plain": [
              "54.67438562040513"
            ]
          },
          "metadata": {
            "tags": []
          },
          "execution_count": 64
        }
      ]
    },
    {
      "cell_type": "code",
      "metadata": {
        "id": "uNirsvyCY7I8"
      },
      "source": [
        ""
      ],
      "execution_count": null,
      "outputs": []
    }
  ]
}