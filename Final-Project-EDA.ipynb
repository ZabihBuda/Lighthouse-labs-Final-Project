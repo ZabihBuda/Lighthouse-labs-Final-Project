{
 "cells": [
  {
   "cell_type": "code",
   "execution_count": 218,
   "metadata": {},
   "outputs": [],
   "source": [
    "import pandas as pd\n",
    "import numpy as np\n",
    "from datetime import datetime\n",
    "import seaborn as sns\n",
    "import matplotlib.pyplot as plt\n",
    "%matplotlib inline\n",
    "pd.set_option('display.max_columns', None)\n",
    "# Right after importing seaborn (could also use 'whitegrid')\n",
    "sns.set_theme(style='darkgrid', context='talk')\n",
    "\n",
    "import warnings\n",
    "warnings.filterwarnings('ignore')"
   ]
  },
  {
   "cell_type": "code",
   "execution_count": 109,
   "metadata": {},
   "outputs": [
    {
     "data": {
      "text/html": [
       "<div>\n",
       "<style scoped>\n",
       "    .dataframe tbody tr th:only-of-type {\n",
       "        vertical-align: middle;\n",
       "    }\n",
       "\n",
       "    .dataframe tbody tr th {\n",
       "        vertical-align: top;\n",
       "    }\n",
       "\n",
       "    .dataframe thead th {\n",
       "        text-align: right;\n",
       "    }\n",
       "</style>\n",
       "<table border=\"1\" class=\"dataframe\">\n",
       "  <thead>\n",
       "    <tr style=\"text-align: right;\">\n",
       "      <th></th>\n",
       "      <th>order_id</th>\n",
       "      <th>date</th>\n",
       "      <th>payment</th>\n",
       "      <th>item_code</th>\n",
       "      <th>quantity</th>\n",
       "      <th>unit_price_vat_excl</th>\n",
       "      <th>unit_cogs</th>\n",
       "      <th>unit_rrp_vat_excl</th>\n",
       "      <th>department</th>\n",
       "      <th>channel</th>\n",
       "      <th>owner</th>\n",
       "      <th>site</th>\n",
       "      <th>CreatedAt</th>\n",
       "    </tr>\n",
       "  </thead>\n",
       "  <tbody>\n",
       "    <tr>\n",
       "      <th>0</th>\n",
       "      <td>1900052301</td>\n",
       "      <td>2019-06-04 00:00:00</td>\n",
       "      <td>Dobírka</td>\n",
       "      <td>ZB00025746</td>\n",
       "      <td>1</td>\n",
       "      <td>9.412096</td>\n",
       "      <td>0.000000</td>\n",
       "      <td>0.0</td>\n",
       "      <td>E-COMMER</td>\n",
       "      <td>FTB.roC</td>\n",
       "      <td>FTB.roO</td>\n",
       "      <td>11teamsports.ro</td>\n",
       "      <td>2019-06-04 09:22:00</td>\n",
       "    </tr>\n",
       "    <tr>\n",
       "      <th>1</th>\n",
       "      <td>1900052301</td>\n",
       "      <td>2019-06-04 00:00:00</td>\n",
       "      <td>Dobírka</td>\n",
       "      <td>ZB00022010</td>\n",
       "      <td>1</td>\n",
       "      <td>12.784729</td>\n",
       "      <td>4.087597</td>\n",
       "      <td>0.0</td>\n",
       "      <td>E-COMMER</td>\n",
       "      <td>FTB.roC</td>\n",
       "      <td>FTB.roO</td>\n",
       "      <td>11teamsports.ro</td>\n",
       "      <td>2019-06-04 09:22:00</td>\n",
       "    </tr>\n",
       "    <tr>\n",
       "      <th>2</th>\n",
       "      <td>1900052301</td>\n",
       "      <td>2019-06-04 00:00:00</td>\n",
       "      <td>Dobírka</td>\n",
       "      <td>ZB00004531</td>\n",
       "      <td>1</td>\n",
       "      <td>8.524561</td>\n",
       "      <td>0.231008</td>\n",
       "      <td>0.0</td>\n",
       "      <td>E-COMMER</td>\n",
       "      <td>FTB.roC</td>\n",
       "      <td>FTB.roO</td>\n",
       "      <td>11teamsports.ro</td>\n",
       "      <td>2019-06-04 09:22:00</td>\n",
       "    </tr>\n",
       "    <tr>\n",
       "      <th>3</th>\n",
       "      <td>1900052301</td>\n",
       "      <td>2019-06-04 00:00:00</td>\n",
       "      <td>Dobírka</td>\n",
       "      <td>ZB00011355</td>\n",
       "      <td>1</td>\n",
       "      <td>6.747378</td>\n",
       "      <td>2.158140</td>\n",
       "      <td>0.0</td>\n",
       "      <td>E-COMMER</td>\n",
       "      <td>FTB.roC</td>\n",
       "      <td>FTB.roO</td>\n",
       "      <td>11teamsports.ro</td>\n",
       "      <td>2019-06-04 09:22:00</td>\n",
       "    </tr>\n",
       "    <tr>\n",
       "      <th>4</th>\n",
       "      <td>1900073403</td>\n",
       "      <td>2019-06-04 00:00:00</td>\n",
       "      <td>Dobírka</td>\n",
       "      <td>ZB00025748</td>\n",
       "      <td>1</td>\n",
       "      <td>88.378682</td>\n",
       "      <td>0.000000</td>\n",
       "      <td>0.0</td>\n",
       "      <td>E-COMMER</td>\n",
       "      <td>FTB.czC</td>\n",
       "      <td>VO_B_FTO</td>\n",
       "      <td>11teamsports.cz</td>\n",
       "      <td>2019-06-04 09:22:00</td>\n",
       "    </tr>\n",
       "  </tbody>\n",
       "</table>\n",
       "</div>"
      ],
      "text/plain": [
       "     order_id                 date  payment   item_code  quantity  \\\n",
       "0  1900052301  2019-06-04 00:00:00  Dobírka  ZB00025746         1   \n",
       "1  1900052301  2019-06-04 00:00:00  Dobírka  ZB00022010         1   \n",
       "2  1900052301  2019-06-04 00:00:00  Dobírka  ZB00004531         1   \n",
       "3  1900052301  2019-06-04 00:00:00  Dobírka  ZB00011355         1   \n",
       "4  1900073403  2019-06-04 00:00:00  Dobírka  ZB00025748         1   \n",
       "\n",
       "   unit_price_vat_excl  unit_cogs  unit_rrp_vat_excl department  channel  \\\n",
       "0             9.412096   0.000000                0.0   E-COMMER  FTB.roC   \n",
       "1            12.784729   4.087597                0.0   E-COMMER  FTB.roC   \n",
       "2             8.524561   0.231008                0.0   E-COMMER  FTB.roC   \n",
       "3             6.747378   2.158140                0.0   E-COMMER  FTB.roC   \n",
       "4            88.378682   0.000000                0.0   E-COMMER  FTB.czC   \n",
       "\n",
       "      owner             site            CreatedAt  \n",
       "0   FTB.roO  11teamsports.ro  2019-06-04 09:22:00  \n",
       "1   FTB.roO  11teamsports.ro  2019-06-04 09:22:00  \n",
       "2   FTB.roO  11teamsports.ro  2019-06-04 09:22:00  \n",
       "3   FTB.roO  11teamsports.ro  2019-06-04 09:22:00  \n",
       "4  VO_B_FTO  11teamsports.cz  2019-06-04 09:22:00  "
      ]
     },
     "execution_count": 109,
     "metadata": {},
     "output_type": "execute_result"
    }
   ],
   "source": [
    "orders=pd.read_csv('orders.csv', sep=';', low_memory=False)\n",
    "orders.head()"
   ]
  },
  {
   "cell_type": "code",
   "execution_count": 110,
   "metadata": {},
   "outputs": [
    {
     "data": {
      "text/plain": [
       "(1420929, 13)"
      ]
     },
     "execution_count": 110,
     "metadata": {},
     "output_type": "execute_result"
    }
   ],
   "source": [
    "orders.shape"
   ]
  },
  {
   "cell_type": "code",
   "execution_count": 111,
   "metadata": {},
   "outputs": [
    {
     "data": {
      "text/html": [
       "<div>\n",
       "<style scoped>\n",
       "    .dataframe tbody tr th:only-of-type {\n",
       "        vertical-align: middle;\n",
       "    }\n",
       "\n",
       "    .dataframe tbody tr th {\n",
       "        vertical-align: top;\n",
       "    }\n",
       "\n",
       "    .dataframe thead th {\n",
       "        text-align: right;\n",
       "    }\n",
       "</style>\n",
       "<table border=\"1\" class=\"dataframe\">\n",
       "  <thead>\n",
       "    <tr style=\"text-align: right;\">\n",
       "      <th></th>\n",
       "      <th>item_code</th>\n",
       "      <th>item_name</th>\n",
       "      <th>style</th>\n",
       "      <th>brand_id</th>\n",
       "      <th>name</th>\n",
       "      <th>teamsales</th>\n",
       "      <th>group0_id</th>\n",
       "      <th>group0</th>\n",
       "      <th>group1_id</th>\n",
       "      <th>group1</th>\n",
       "      <th>group2_id</th>\n",
       "      <th>group2</th>\n",
       "      <th>group3_id</th>\n",
       "      <th>group3</th>\n",
       "      <th>group4_id</th>\n",
       "      <th>group4</th>\n",
       "      <th>category</th>\n",
       "      <th>CodeBars</th>\n",
       "    </tr>\n",
       "  </thead>\n",
       "  <tbody>\n",
       "    <tr>\n",
       "      <th>0</th>\n",
       "      <td>S101</td>\n",
       "      <td>Dopravné</td>\n",
       "      <td>NaN</td>\n",
       "      <td>-1</td>\n",
       "      <td>- žádný výrobce -</td>\n",
       "      <td>N</td>\n",
       "      <td>999.0</td>\n",
       "      <td>Other</td>\n",
       "      <td>NaN</td>\n",
       "      <td>NaN</td>\n",
       "      <td>NaN</td>\n",
       "      <td>NaN</td>\n",
       "      <td>NaN</td>\n",
       "      <td>NaN</td>\n",
       "      <td>NaN</td>\n",
       "      <td>NaN</td>\n",
       "      <td>NaN</td>\n",
       "      <td>S101</td>\n",
       "    </tr>\n",
       "    <tr>\n",
       "      <th>1</th>\n",
       "      <td>S102</td>\n",
       "      <td>Potisk</td>\n",
       "      <td>NaN</td>\n",
       "      <td>-1</td>\n",
       "      <td>- žádný výrobce -</td>\n",
       "      <td>N</td>\n",
       "      <td>999.0</td>\n",
       "      <td>Other</td>\n",
       "      <td>NaN</td>\n",
       "      <td>NaN</td>\n",
       "      <td>NaN</td>\n",
       "      <td>NaN</td>\n",
       "      <td>NaN</td>\n",
       "      <td>NaN</td>\n",
       "      <td>NaN</td>\n",
       "      <td>NaN</td>\n",
       "      <td>NaN</td>\n",
       "      <td>S102</td>\n",
       "    </tr>\n",
       "    <tr>\n",
       "      <th>2</th>\n",
       "      <td>S103</td>\n",
       "      <td>Marketingová podpora</td>\n",
       "      <td>NaN</td>\n",
       "      <td>-1</td>\n",
       "      <td>- žádný výrobce -</td>\n",
       "      <td>N</td>\n",
       "      <td>999.0</td>\n",
       "      <td>Other</td>\n",
       "      <td>NaN</td>\n",
       "      <td>NaN</td>\n",
       "      <td>NaN</td>\n",
       "      <td>NaN</td>\n",
       "      <td>NaN</td>\n",
       "      <td>NaN</td>\n",
       "      <td>NaN</td>\n",
       "      <td>NaN</td>\n",
       "      <td>NaN</td>\n",
       "      <td>S103</td>\n",
       "    </tr>\n",
       "    <tr>\n",
       "      <th>3</th>\n",
       "      <td>S104</td>\n",
       "      <td>Vltava Run</td>\n",
       "      <td>NaN</td>\n",
       "      <td>-1</td>\n",
       "      <td>- žádný výrobce -</td>\n",
       "      <td>N</td>\n",
       "      <td>999.0</td>\n",
       "      <td>Other</td>\n",
       "      <td>NaN</td>\n",
       "      <td>NaN</td>\n",
       "      <td>NaN</td>\n",
       "      <td>NaN</td>\n",
       "      <td>NaN</td>\n",
       "      <td>NaN</td>\n",
       "      <td>NaN</td>\n",
       "      <td>NaN</td>\n",
       "      <td>NaN</td>\n",
       "      <td>S104</td>\n",
       "    </tr>\n",
       "    <tr>\n",
       "      <th>4</th>\n",
       "      <td>S105</td>\n",
       "      <td>Služby - vnitro</td>\n",
       "      <td>NaN</td>\n",
       "      <td>-1</td>\n",
       "      <td>- žádný výrobce -</td>\n",
       "      <td>N</td>\n",
       "      <td>999.0</td>\n",
       "      <td>Other</td>\n",
       "      <td>NaN</td>\n",
       "      <td>NaN</td>\n",
       "      <td>NaN</td>\n",
       "      <td>NaN</td>\n",
       "      <td>NaN</td>\n",
       "      <td>NaN</td>\n",
       "      <td>NaN</td>\n",
       "      <td>NaN</td>\n",
       "      <td>NaN</td>\n",
       "      <td>S105</td>\n",
       "    </tr>\n",
       "  </tbody>\n",
       "</table>\n",
       "</div>"
      ],
      "text/plain": [
       "  item_code             item_name style  brand_id               name  \\\n",
       "0      S101              Dopravné   NaN        -1  - žádný výrobce -   \n",
       "1      S102                Potisk   NaN        -1  - žádný výrobce -   \n",
       "2      S103  Marketingová podpora   NaN        -1  - žádný výrobce -   \n",
       "3      S104            Vltava Run   NaN        -1  - žádný výrobce -   \n",
       "4      S105       Služby - vnitro   NaN        -1  - žádný výrobce -   \n",
       "\n",
       "  teamsales  group0_id group0  group1_id group1  group2_id group2  group3_id  \\\n",
       "0         N      999.0  Other        NaN    NaN        NaN    NaN        NaN   \n",
       "1         N      999.0  Other        NaN    NaN        NaN    NaN        NaN   \n",
       "2         N      999.0  Other        NaN    NaN        NaN    NaN        NaN   \n",
       "3         N      999.0  Other        NaN    NaN        NaN    NaN        NaN   \n",
       "4         N      999.0  Other        NaN    NaN        NaN    NaN        NaN   \n",
       "\n",
       "   group3  group4_id  group4 category CodeBars  \n",
       "0     NaN        NaN     NaN      NaN     S101  \n",
       "1     NaN        NaN     NaN      NaN     S102  \n",
       "2     NaN        NaN     NaN      NaN     S103  \n",
       "3     NaN        NaN     NaN      NaN     S104  \n",
       "4     NaN        NaN     NaN      NaN     S105  "
      ]
     },
     "execution_count": 111,
     "metadata": {},
     "output_type": "execute_result"
    }
   ],
   "source": [
    "items_df=pd.read_csv('items.csv', sep=';')\n",
    "items_df.head()"
   ]
  },
  {
   "cell_type": "code",
   "execution_count": 112,
   "metadata": {},
   "outputs": [
    {
     "data": {
      "text/plain": [
       "(228152, 18)"
      ]
     },
     "execution_count": 112,
     "metadata": {},
     "output_type": "execute_result"
    }
   ],
   "source": [
    "items_df.shape"
   ]
  },
  {
   "cell_type": "code",
   "execution_count": 113,
   "metadata": {},
   "outputs": [
    {
     "data": {
      "text/plain": [
       "item_code         0\n",
       "item_name      2037\n",
       "style          8331\n",
       "brand_id          0\n",
       "name              0\n",
       "teamsales         0\n",
       "group0_id        18\n",
       "group0         2419\n",
       "group1_id      8870\n",
       "group1        26700\n",
       "group2_id      8870\n",
       "group2       173437\n",
       "group3_id      8870\n",
       "group3       228152\n",
       "group4_id      8870\n",
       "group4       228152\n",
       "category      24895\n",
       "CodeBars         34\n",
       "dtype: int64"
      ]
     },
     "execution_count": 113,
     "metadata": {},
     "output_type": "execute_result"
    }
   ],
   "source": [
    "items_df.isnull().sum()"
   ]
  },
  {
   "cell_type": "code",
   "execution_count": 114,
   "metadata": {},
   "outputs": [
    {
     "data": {
      "text/plain": [
       "order_id                1829\n",
       "date                       0\n",
       "payment                 3225\n",
       "item_code                  0\n",
       "quantity                   0\n",
       "unit_price_vat_excl        0\n",
       "unit_cogs                  0\n",
       "unit_rrp_vat_excl      11467\n",
       "department                 0\n",
       "channel                    0\n",
       "owner                      0\n",
       "site                       0\n",
       "CreatedAt                  0\n",
       "dtype: int64"
      ]
     },
     "execution_count": 114,
     "metadata": {},
     "output_type": "execute_result"
    }
   ],
   "source": [
    "orders.isnull().sum()"
   ]
  },
  {
   "cell_type": "code",
   "execution_count": 115,
   "metadata": {},
   "outputs": [
    {
     "data": {
      "text/plain": [
       "11teamsports.cz     282889\n",
       "11teamsports.sk     143533\n",
       "top4running.cz      137627\n",
       "11teamsports.hu     128277\n",
       "11teamsports.ro     127018\n",
       "top4running.sk       59050\n",
       "top4running.de       54682\n",
       "top4running.hu       51582\n",
       "Other                41810\n",
       "top4running.es       37706\n",
       "top4fitness.cz       36785\n",
       "top4fitness.sk       35220\n",
       "top4sport.cz         30990\n",
       "top4running.ro       26412\n",
       "top4running.fr       22790\n",
       "top4football.es      22679\n",
       "top4fitness.hu       20173\n",
       "top4fitness.ro       17525\n",
       "top4running.com      15086\n",
       "top4football.fr      14070\n",
       "top4football.de      12788\n",
       "11teamsports.hr      12093\n",
       "top4fitness.de       11134\n",
       "top4fitness.es       11130\n",
       "top4running.it       10832\n",
       "top4street.cz        10541\n",
       "top4football.com      9172\n",
       "top4football.it       5704\n",
       "top4running.at        5606\n",
       "top4street.hu         5083\n",
       "top4street.sk         3851\n",
       "top4fitness.fr        3780\n",
       "top4running.hr        3515\n",
       "top4fitness.com       3000\n",
       "top4street.ro         2710\n",
       "top4fitness.it        2373\n",
       "top4fitness.hr         971\n",
       "top4fitness.at         742\n",
       "Name: site, dtype: int64"
      ]
     },
     "execution_count": 115,
     "metadata": {},
     "output_type": "execute_result"
    }
   ],
   "source": [
    "orders['site'].value_counts()"
   ]
  },
  {
   "cell_type": "code",
   "execution_count": 74,
   "metadata": {},
   "outputs": [],
   "source": []
  },
  {
   "cell_type": "code",
   "execution_count": 116,
   "metadata": {},
   "outputs": [
    {
     "data": {
      "text/html": [
       "<div>\n",
       "<style scoped>\n",
       "    .dataframe tbody tr th:only-of-type {\n",
       "        vertical-align: middle;\n",
       "    }\n",
       "\n",
       "    .dataframe tbody tr th {\n",
       "        vertical-align: top;\n",
       "    }\n",
       "\n",
       "    .dataframe thead th {\n",
       "        text-align: right;\n",
       "    }\n",
       "</style>\n",
       "<table border=\"1\" class=\"dataframe\">\n",
       "  <thead>\n",
       "    <tr style=\"text-align: right;\">\n",
       "      <th></th>\n",
       "      <th>order_id</th>\n",
       "      <th>date</th>\n",
       "      <th>payment</th>\n",
       "      <th>item_code</th>\n",
       "      <th>quantity</th>\n",
       "      <th>unit_price_vat_excl</th>\n",
       "      <th>unit_cogs</th>\n",
       "      <th>unit_rrp_vat_excl</th>\n",
       "      <th>department</th>\n",
       "      <th>channel</th>\n",
       "      <th>owner</th>\n",
       "      <th>site</th>\n",
       "      <th>CreatedAt</th>\n",
       "    </tr>\n",
       "  </thead>\n",
       "  <tbody>\n",
       "    <tr>\n",
       "      <th>0</th>\n",
       "      <td>1900052301</td>\n",
       "      <td>2019-06-04 00:00:00</td>\n",
       "      <td>Dobírka</td>\n",
       "      <td>ZB00025746</td>\n",
       "      <td>1</td>\n",
       "      <td>9.412096</td>\n",
       "      <td>0.000000</td>\n",
       "      <td>0.0</td>\n",
       "      <td>E-COMMER</td>\n",
       "      <td>FTB.roC</td>\n",
       "      <td>FTB.roO</td>\n",
       "      <td>11teamsports.ro</td>\n",
       "      <td>2019-06-04 09:22:00</td>\n",
       "    </tr>\n",
       "    <tr>\n",
       "      <th>1</th>\n",
       "      <td>1900052301</td>\n",
       "      <td>2019-06-04 00:00:00</td>\n",
       "      <td>Dobírka</td>\n",
       "      <td>ZB00022010</td>\n",
       "      <td>1</td>\n",
       "      <td>12.784729</td>\n",
       "      <td>4.087597</td>\n",
       "      <td>0.0</td>\n",
       "      <td>E-COMMER</td>\n",
       "      <td>FTB.roC</td>\n",
       "      <td>FTB.roO</td>\n",
       "      <td>11teamsports.ro</td>\n",
       "      <td>2019-06-04 09:22:00</td>\n",
       "    </tr>\n",
       "    <tr>\n",
       "      <th>2</th>\n",
       "      <td>1900052301</td>\n",
       "      <td>2019-06-04 00:00:00</td>\n",
       "      <td>Dobírka</td>\n",
       "      <td>ZB00004531</td>\n",
       "      <td>1</td>\n",
       "      <td>8.524561</td>\n",
       "      <td>0.231008</td>\n",
       "      <td>0.0</td>\n",
       "      <td>E-COMMER</td>\n",
       "      <td>FTB.roC</td>\n",
       "      <td>FTB.roO</td>\n",
       "      <td>11teamsports.ro</td>\n",
       "      <td>2019-06-04 09:22:00</td>\n",
       "    </tr>\n",
       "    <tr>\n",
       "      <th>3</th>\n",
       "      <td>1900052301</td>\n",
       "      <td>2019-06-04 00:00:00</td>\n",
       "      <td>Dobírka</td>\n",
       "      <td>ZB00011355</td>\n",
       "      <td>1</td>\n",
       "      <td>6.747378</td>\n",
       "      <td>2.158140</td>\n",
       "      <td>0.0</td>\n",
       "      <td>E-COMMER</td>\n",
       "      <td>FTB.roC</td>\n",
       "      <td>FTB.roO</td>\n",
       "      <td>11teamsports.ro</td>\n",
       "      <td>2019-06-04 09:22:00</td>\n",
       "    </tr>\n",
       "    <tr>\n",
       "      <th>4</th>\n",
       "      <td>1900073403</td>\n",
       "      <td>2019-06-04 00:00:00</td>\n",
       "      <td>Dobírka</td>\n",
       "      <td>ZB00025748</td>\n",
       "      <td>1</td>\n",
       "      <td>88.378682</td>\n",
       "      <td>0.000000</td>\n",
       "      <td>0.0</td>\n",
       "      <td>E-COMMER</td>\n",
       "      <td>FTB.czC</td>\n",
       "      <td>VO_B_FTO</td>\n",
       "      <td>11teamsports.cz</td>\n",
       "      <td>2019-06-04 09:22:00</td>\n",
       "    </tr>\n",
       "  </tbody>\n",
       "</table>\n",
       "</div>"
      ],
      "text/plain": [
       "     order_id                 date  payment   item_code  quantity  \\\n",
       "0  1900052301  2019-06-04 00:00:00  Dobírka  ZB00025746         1   \n",
       "1  1900052301  2019-06-04 00:00:00  Dobírka  ZB00022010         1   \n",
       "2  1900052301  2019-06-04 00:00:00  Dobírka  ZB00004531         1   \n",
       "3  1900052301  2019-06-04 00:00:00  Dobírka  ZB00011355         1   \n",
       "4  1900073403  2019-06-04 00:00:00  Dobírka  ZB00025748         1   \n",
       "\n",
       "   unit_price_vat_excl  unit_cogs  unit_rrp_vat_excl department  channel  \\\n",
       "0             9.412096   0.000000                0.0   E-COMMER  FTB.roC   \n",
       "1            12.784729   4.087597                0.0   E-COMMER  FTB.roC   \n",
       "2             8.524561   0.231008                0.0   E-COMMER  FTB.roC   \n",
       "3             6.747378   2.158140                0.0   E-COMMER  FTB.roC   \n",
       "4            88.378682   0.000000                0.0   E-COMMER  FTB.czC   \n",
       "\n",
       "      owner             site            CreatedAt  \n",
       "0   FTB.roO  11teamsports.ro  2019-06-04 09:22:00  \n",
       "1   FTB.roO  11teamsports.ro  2019-06-04 09:22:00  \n",
       "2   FTB.roO  11teamsports.ro  2019-06-04 09:22:00  \n",
       "3   FTB.roO  11teamsports.ro  2019-06-04 09:22:00  \n",
       "4  VO_B_FTO  11teamsports.cz  2019-06-04 09:22:00  "
      ]
     },
     "execution_count": 116,
     "metadata": {},
     "output_type": "execute_result"
    }
   ],
   "source": [
    "orders.head()"
   ]
  },
  {
   "cell_type": "code",
   "execution_count": 159,
   "metadata": {},
   "outputs": [],
   "source": [
    "# Preparing the datasets for EDA and time series analysis and combining them into one dataset\n",
    "def process(orders, items_df):\n",
    "    orders['date']=pd.to_datetime(orders['date'])#converting it to standard datetime format\n",
    "    orders['order_id']=orders['order_id'].astype(str) #converting it str in order to be readable\n",
    "    orders['net_revenue'] = orders.quantity * orders.unit_price_vat_excl\n",
    "    orders['gross_revenue'] = orders.quantity * orders.unit_cogs\n",
    "    orders['margin_revenue'] = orders.quantity * (orders.unit_price_vat_excl - orders.unit_cogs)\n",
    "    orders.drop(orders[orders['site']=='Other'].index, inplace=True) #dropping rows that have Other and i am not sure which country do they belong to\n",
    "    orders['country']=orders['site'].apply(lambda x: x.split('.')[1]) #Extracting the domains names to find out which coutry the website belongs to and creating a new colum for country names\n",
    "    orders.drop(orders[orders['country']=='com'].index, inplace=True)# #dropping rows that have .com in the country column because i am not sure which country do they belong to. Besides, there is small number of rows with this domain name.\n",
    "    orders['country']=orders['country'].replace({'hr': 'Croatia', 'cz':'Czech Republic', 'it': 'Italy', 'ro':'Romania', 'sk':'Slovakia', 'fr':'France', 'de':'Germany', 'es':'Spain', 'hu':'Hungary', 'at':'Austria'}) # Renaming the values taken from domain with the country names\n",
    "    orders=orders.drop(['payment','unit_rrp_vat_excl', 'department', 'channel', 'owner', 'site', 'CreatedAt'], axis=1)# dropping the columns as I was instructed by the head of corriculum\n",
    "    \n",
    "    # Cleaning items_df dataset\n",
    "    items=items_df[['item_code', 'item_name', 'style', 'name', 'group0', 'group1', 'category']] # taking only necessary variables. Groups 3 and 4 have a lot missing values and can't be used in this project.\n",
    "    \n",
    "    final_df=pd.merge(orders, items, on='item_code',)\n",
    "    return final_df\n",
    "    \n",
    "   "
   ]
  },
  {
   "cell_type": "code",
   "execution_count": 160,
   "metadata": {},
   "outputs": [],
   "source": [
    "data=process(orders, items_df)"
   ]
  },
  {
   "cell_type": "code",
   "execution_count": 161,
   "metadata": {},
   "outputs": [
    {
     "data": {
      "text/html": [
       "<div>\n",
       "<style scoped>\n",
       "    .dataframe tbody tr th:only-of-type {\n",
       "        vertical-align: middle;\n",
       "    }\n",
       "\n",
       "    .dataframe tbody tr th {\n",
       "        vertical-align: top;\n",
       "    }\n",
       "\n",
       "    .dataframe thead th {\n",
       "        text-align: right;\n",
       "    }\n",
       "</style>\n",
       "<table border=\"1\" class=\"dataframe\">\n",
       "  <thead>\n",
       "    <tr style=\"text-align: right;\">\n",
       "      <th></th>\n",
       "      <th>order_id</th>\n",
       "      <th>date</th>\n",
       "      <th>item_code</th>\n",
       "      <th>quantity</th>\n",
       "      <th>unit_price_vat_excl</th>\n",
       "      <th>unit_cogs</th>\n",
       "      <th>net_revenue</th>\n",
       "      <th>gross_revenue</th>\n",
       "      <th>margin_revenue</th>\n",
       "      <th>country</th>\n",
       "      <th>item_name</th>\n",
       "      <th>style</th>\n",
       "      <th>name</th>\n",
       "      <th>group0</th>\n",
       "      <th>group1</th>\n",
       "      <th>category</th>\n",
       "    </tr>\n",
       "  </thead>\n",
       "  <tbody>\n",
       "    <tr>\n",
       "      <th>0</th>\n",
       "      <td>1900052301</td>\n",
       "      <td>2019-06-04</td>\n",
       "      <td>ZB00025746</td>\n",
       "      <td>1</td>\n",
       "      <td>9.412096</td>\n",
       "      <td>0.000000</td>\n",
       "      <td>9.412096</td>\n",
       "      <td>0.000000</td>\n",
       "      <td>9.412096</td>\n",
       "      <td>Romania</td>\n",
       "      <td>YTH LEAGUE KNIT SHORT NB</td>\n",
       "      <td>725990-010</td>\n",
       "      <td>Nike</td>\n",
       "      <td>Apparel</td>\n",
       "      <td>Pants</td>\n",
       "      <td>football</td>\n",
       "    </tr>\n",
       "    <tr>\n",
       "      <th>1</th>\n",
       "      <td>1900100835</td>\n",
       "      <td>2019-07-15</td>\n",
       "      <td>ZB00025746</td>\n",
       "      <td>1</td>\n",
       "      <td>8.648837</td>\n",
       "      <td>5.393411</td>\n",
       "      <td>8.648837</td>\n",
       "      <td>5.393411</td>\n",
       "      <td>3.255426</td>\n",
       "      <td>Czech Republic</td>\n",
       "      <td>YTH LEAGUE KNIT SHORT NB</td>\n",
       "      <td>725990-010</td>\n",
       "      <td>Nike</td>\n",
       "      <td>Apparel</td>\n",
       "      <td>Pants</td>\n",
       "      <td>football</td>\n",
       "    </tr>\n",
       "    <tr>\n",
       "      <th>2</th>\n",
       "      <td>1900106577</td>\n",
       "      <td>2019-07-24</td>\n",
       "      <td>ZB00025746</td>\n",
       "      <td>1</td>\n",
       "      <td>8.648837</td>\n",
       "      <td>5.458527</td>\n",
       "      <td>8.648837</td>\n",
       "      <td>5.458527</td>\n",
       "      <td>3.190310</td>\n",
       "      <td>Czech Republic</td>\n",
       "      <td>YTH LEAGUE KNIT SHORT NB</td>\n",
       "      <td>725990-010</td>\n",
       "      <td>Nike</td>\n",
       "      <td>Apparel</td>\n",
       "      <td>Pants</td>\n",
       "      <td>football</td>\n",
       "    </tr>\n",
       "    <tr>\n",
       "      <th>3</th>\n",
       "      <td>1900111398</td>\n",
       "      <td>2019-08-01</td>\n",
       "      <td>ZB00025746</td>\n",
       "      <td>1</td>\n",
       "      <td>8.648837</td>\n",
       "      <td>5.440310</td>\n",
       "      <td>8.648837</td>\n",
       "      <td>5.440310</td>\n",
       "      <td>3.208527</td>\n",
       "      <td>Czech Republic</td>\n",
       "      <td>YTH LEAGUE KNIT SHORT NB</td>\n",
       "      <td>725990-010</td>\n",
       "      <td>Nike</td>\n",
       "      <td>Apparel</td>\n",
       "      <td>Pants</td>\n",
       "      <td>football</td>\n",
       "    </tr>\n",
       "    <tr>\n",
       "      <th>4</th>\n",
       "      <td>1900052301</td>\n",
       "      <td>2019-06-04</td>\n",
       "      <td>ZB00022010</td>\n",
       "      <td>1</td>\n",
       "      <td>12.784729</td>\n",
       "      <td>4.087597</td>\n",
       "      <td>12.784729</td>\n",
       "      <td>4.087597</td>\n",
       "      <td>8.697132</td>\n",
       "      <td>Romania</td>\n",
       "      <td>NK MERC LT GRD</td>\n",
       "      <td>sp2120-703</td>\n",
       "      <td>Nike</td>\n",
       "      <td>Equipment</td>\n",
       "      <td>Guards</td>\n",
       "      <td>football</td>\n",
       "    </tr>\n",
       "  </tbody>\n",
       "</table>\n",
       "</div>"
      ],
      "text/plain": [
       "     order_id       date   item_code  quantity  unit_price_vat_excl  \\\n",
       "0  1900052301 2019-06-04  ZB00025746         1             9.412096   \n",
       "1  1900100835 2019-07-15  ZB00025746         1             8.648837   \n",
       "2  1900106577 2019-07-24  ZB00025746         1             8.648837   \n",
       "3  1900111398 2019-08-01  ZB00025746         1             8.648837   \n",
       "4  1900052301 2019-06-04  ZB00022010         1            12.784729   \n",
       "\n",
       "   unit_cogs  net_revenue  gross_revenue  margin_revenue         country  \\\n",
       "0   0.000000     9.412096       0.000000        9.412096         Romania   \n",
       "1   5.393411     8.648837       5.393411        3.255426  Czech Republic   \n",
       "2   5.458527     8.648837       5.458527        3.190310  Czech Republic   \n",
       "3   5.440310     8.648837       5.440310        3.208527  Czech Republic   \n",
       "4   4.087597    12.784729       4.087597        8.697132         Romania   \n",
       "\n",
       "                  item_name       style  name     group0  group1  category  \n",
       "0  YTH LEAGUE KNIT SHORT NB  725990-010  Nike    Apparel   Pants  football  \n",
       "1  YTH LEAGUE KNIT SHORT NB  725990-010  Nike    Apparel   Pants  football  \n",
       "2  YTH LEAGUE KNIT SHORT NB  725990-010  Nike    Apparel   Pants  football  \n",
       "3  YTH LEAGUE KNIT SHORT NB  725990-010  Nike    Apparel   Pants  football  \n",
       "4            NK MERC LT GRD  sp2120-703  Nike  Equipment  Guards  football  "
      ]
     },
     "execution_count": 161,
     "metadata": {},
     "output_type": "execute_result"
    }
   ],
   "source": [
    "data.head()"
   ]
  },
  {
   "cell_type": "code",
   "execution_count": 162,
   "metadata": {},
   "outputs": [
    {
     "data": {
      "text/plain": [
       "(1351861, 16)"
      ]
     },
     "execution_count": 162,
     "metadata": {},
     "output_type": "execute_result"
    }
   ],
   "source": [
    "data.shape"
   ]
  },
  {
   "cell_type": "code",
   "execution_count": 163,
   "metadata": {},
   "outputs": [
    {
     "data": {
      "text/plain": [
       "order_id                    0\n",
       "date                        0\n",
       "item_code                   0\n",
       "quantity                    0\n",
       "unit_price_vat_excl         0\n",
       "unit_cogs                   0\n",
       "net_revenue                 0\n",
       "gross_revenue               0\n",
       "margin_revenue              0\n",
       "country                     0\n",
       "item_name                 265\n",
       "style                  498526\n",
       "name                        0\n",
       "group0                    775\n",
       "group1                 513825\n",
       "category               502909\n",
       "dtype: int64"
      ]
     },
     "execution_count": 163,
     "metadata": {},
     "output_type": "execute_result"
    }
   ],
   "source": [
    "data.isnull().sum()"
   ]
  },
  {
   "cell_type": "code",
   "execution_count": 164,
   "metadata": {},
   "outputs": [
    {
     "data": {
      "text/plain": [
       "Dopravné                                     270119\n",
       "Platba                                       216558\n",
       "Sleva                                         11419\n",
       "NIKE AIR ZOOM PEGASUS 37                       5609\n",
       "M NP SHORT                                     5066\n",
       "                                              ...  \n",
       "Puma Smash v2                                     1\n",
       "Under Armour AF Graphic                           1\n",
       "Holbrook Matte Black w/ PRIZM Violet              1\n",
       "LUMBAR PACK                                       1\n",
       "nike acay 16 midlayer zip sweatshirt kids         1\n",
       "Name: item_name, Length: 20826, dtype: int64"
      ]
     },
     "execution_count": 164,
     "metadata": {},
     "output_type": "execute_result"
    }
   ],
   "source": [
    "data['item_name'].value_counts()"
   ]
  },
  {
   "cell_type": "code",
   "execution_count": 165,
   "metadata": {},
   "outputs": [
    {
     "data": {
      "text/plain": [
       "Other        498476\n",
       "Apparel      429844\n",
       "Footwear     325211\n",
       "Equipment     95732\n",
       "Nutrition      1679\n",
       "Services        144\n",
       "Name: group0, dtype: int64"
      ]
     },
     "execution_count": 165,
     "metadata": {},
     "output_type": "execute_result"
    }
   ],
   "source": [
    "data['group0'].value_counts()"
   ]
  },
  {
   "cell_type": "code",
   "execution_count": 166,
   "metadata": {},
   "outputs": [],
   "source": [
    "data['item_name'].replace(np.nan, 'Dopravné', inplace=True)\n",
    "data['group0'].replace(np.nan, 'Other', inplace=True)"
   ]
  },
  {
   "cell_type": "code",
   "execution_count": 171,
   "metadata": {},
   "outputs": [
    {
     "data": {
      "text/plain": [
       "order_id                    0\n",
       "date                        0\n",
       "item_code                   0\n",
       "quantity                    0\n",
       "unit_price_vat_excl         0\n",
       "unit_cogs                   0\n",
       "net_revenue                 0\n",
       "gross_revenue               0\n",
       "margin_revenue              0\n",
       "country                     0\n",
       "item_name                   0\n",
       "style                  498526\n",
       "name                        0\n",
       "group0                      0\n",
       "group1                 513825\n",
       "category               502909\n",
       "dtype: int64"
      ]
     },
     "execution_count": 171,
     "metadata": {},
     "output_type": "execute_result"
    }
   ],
   "source": [
    "data.isnull().sum()"
   ]
  },
  {
   "cell_type": "code",
   "execution_count": 219,
   "metadata": {},
   "outputs": [
    {
     "data": {
      "image/png": "[encoded data removed]",
      "text/plain": [
       "<Figure size 864x576 with 1 Axes>"
      ]
     },
     "metadata": {},
     "output_type": "display_data"
    }
   ],
   "source": [
    "products_category=data['category'].value_counts()\n",
    "plt.figure(figsize=(12, 8))\n",
    "sns.barplot(products_category.index, products_category.values, palette='BrBG_r')\n",
    "plt.ylabel('Counts')\n",
    "plt.xlabel('Products Category')\n",
    "plt.show()"
   ]
  },
  {
   "cell_type": "code",
   "execution_count": 210,
   "metadata": {},
   "outputs": [
    {
     "name": "stdout",
     "output_type": "stream",
     "text": [
      "There are 93 manufacturers that top4sport sales their products in the market.\n"
     ]
    }
   ],
   "source": [
    "# let's see how many manufactures the top4sport sales their products \n",
    "manufacturers=data.name.nunique()\n",
    "print(f'There are {manufacturers} manufacturers that top4sport sales their products in the market.')"
   ]
  },
  {
   "cell_type": "code",
   "execution_count": 231,
   "metadata": {},
   "outputs": [
    {
     "data": {
      "image/png": "[encoded data removed]",
      "text/plain": [
       "<Figure size 1440x576 with 1 Axes>"
      ]
     },
     "metadata": {},
     "output_type": "display_data"
    }
   ],
   "source": [
    "# Let's see the number of orders based on products manufacturers\n",
    "product_manufacturers=data['name'].value_counts().head(10)\n",
    "plt.figure(figsize=(20, 8))\n",
    "sns.barplot(product_manufacturers.index, product_manufacturers.values, palette='rocket')\n",
    "plt.ylabel('Counts')\n",
    "plt.xlabel('Manufacturers')\n",
    "plt.xticks(rotation=45)\n",
    "plt.show()"
   ]
  },
  {
   "cell_type": "code",
   "execution_count": 213,
   "metadata": {},
   "outputs": [
    {
     "data": {
      "text/plain": [
       "Other        499251\n",
       "Apparel      429844\n",
       "Footwear     325211\n",
       "Equipment     95732\n",
       "Nutrition      1679\n",
       "Services        144\n",
       "Name: group0, dtype: int64"
      ]
     },
     "execution_count": 213,
     "metadata": {},
     "output_type": "execute_result"
    }
   ],
   "source": [
    "data['group0'].value_counts()"
   ]
  },
  {
   "cell_type": "code",
   "execution_count": 233,
   "metadata": {},
   "outputs": [
    {
     "data": {
      "image/png": "[encoded data removed]",
      "text/plain": [
       "<Figure size 1440x576 with 1 Axes>"
      ]
     },
     "metadata": {},
     "output_type": "display_data"
    }
   ],
   "source": [
    "# Let's see which products are usually purchased by customers from top4sport\n",
    "products=data['group1'].value_counts()\n",
    "plt.figure(figsize=(20, 8))\n",
    "sns.barplot(products.index, products.values)\n",
    "plt.ylabel('Counts')\n",
    "plt.xlabel('Products type')\n",
    "plt.xticks(rotation=90)\n",
    "plt.show()"
   ]
  },
  {
   "cell_type": "code",
   "execution_count": 173,
   "metadata": {},
   "outputs": [
    {
     "data": {
      "text/plain": [
       "161318"
      ]
     },
     "execution_count": 173,
     "metadata": {},
     "output_type": "execute_result"
    }
   ],
   "source": [
    "# How many unique products the company has?\n",
    "data.item_code.nunique()"
   ]
  },
  {
   "cell_type": "code",
   "execution_count": 224,
   "metadata": {},
   "outputs": [
    {
     "name": "stdout",
     "output_type": "stream",
     "text": [
      "Czech Republic    498832\n",
      "Slovakia          241654\n",
      "Hungary           205115\n",
      "Romania           173665\n",
      "Germany            78604\n",
      "Spain              71515\n",
      "France             40640\n",
      "Italy              18909\n",
      "Croatia            16579\n",
      "Austria             6348\n",
      "Name: country, dtype: int64\n"
     ]
    }
   ],
   "source": [
    "country=data['country'].value_counts()\n",
    "print(country)"
   ]
  },
  {
   "cell_type": "code",
   "execution_count": 225,
   "metadata": {},
   "outputs": [
    {
     "data": {
      "image/png": "[encoded data removed]",
      "text/plain": [
       "<Figure size 1440x576 with 1 Axes>"
      ]
     },
     "metadata": {},
     "output_type": "display_data"
    }
   ],
   "source": [
    "# Let's see the number of orders in different countries\n",
    "country=data['country'].value_counts()\n",
    "plt.figure(figsize=(20, 8))\n",
    "sns.barplot(country.index, country.values)\n",
    "plt.ylabel('Counts')\n",
    "plt.xlabel('Countries')\n",
    "plt.xticks(rotation=45)\n",
    "plt.show()"
   ]
  },
  {
   "cell_type": "code",
   "execution_count": 237,
   "metadata": {},
   "outputs": [
    {
     "data": {
      "image/png": "[encoded data removed]",
      "text/plain": [
       "<Figure size 1440x576 with 1 Axes>"
      ]
     },
     "metadata": {},
     "output_type": "display_data"
    }
   ],
   "source": [
    "items_sales=data['item_name'].value_counts().head(5)\n",
    "plt.figure(figsize=(20, 8))\n",
    "sns.barplot(items_sales.index, items_sales.values)\n",
    "plt.ylabel('Counts')\n",
    "plt.xlabel('Product Names')\n",
    "plt.xticks(rotation=90)\n",
    "plt.show()\n"
   ]
  },
  {
   "cell_type": "code",
   "execution_count": 240,
   "metadata": {},
   "outputs": [
    {
     "data": {
      "text/plain": [
       "Dopravné                    270384\n",
       "Platba                      216558\n",
       "Sleva                        11419\n",
       "NIKE AIR ZOOM PEGASUS 37      5609\n",
       "M NP SHORT                    5066\n",
       "Name: item_name, dtype: int64"
      ]
     },
     "execution_count": 240,
     "metadata": {},
     "output_type": "execute_result"
    }
   ],
   "source": [
    "items_sales=data['item_name'].value_counts().head(5)\n",
    "items_sales"
   ]
  },
  {
   "cell_type": "code",
   "execution_count": 243,
   "metadata": {},
   "outputs": [
    {
     "data": {
      "text/plain": [
       "S101          270119\n",
       "S113          216558\n",
       "S114           11419\n",
       "ZB00077277      1259\n",
       "ZB00088644      1137\n",
       "               ...  \n",
       "ZB00195118         1\n",
       "ZB00028359         1\n",
       "ZB00154532         1\n",
       "ZB00145331         1\n",
       "ZB00076540         1\n",
       "Name: item_code, Length: 161318, dtype: int64"
      ]
     },
     "execution_count": 243,
     "metadata": {},
     "output_type": "execute_result"
    }
   ],
   "source": [
    "data['item_code'].value_counts()"
   ]
  },
  {
   "cell_type": "code",
   "execution_count": 249,
   "metadata": {},
   "outputs": [],
   "source": [
    "df=data[['item_code', 'quantity', 'item_name']].value_counts()"
   ]
  },
  {
   "cell_type": "code",
   "execution_count": 223,
   "metadata": {},
   "outputs": [
    {
     "data": {
      "text/html": [
       "<div>\n",
       "<style scoped>\n",
       "    .dataframe tbody tr th:only-of-type {\n",
       "        vertical-align: middle;\n",
       "    }\n",
       "\n",
       "    .dataframe tbody tr th {\n",
       "        vertical-align: top;\n",
       "    }\n",
       "\n",
       "    .dataframe thead th {\n",
       "        text-align: right;\n",
       "    }\n",
       "</style>\n",
       "<table border=\"1\" class=\"dataframe\">\n",
       "  <thead>\n",
       "    <tr style=\"text-align: right;\">\n",
       "      <th></th>\n",
       "      <th>order_id</th>\n",
       "      <th>date</th>\n",
       "      <th>item_code</th>\n",
       "      <th>quantity</th>\n",
       "      <th>unit_price_vat_excl</th>\n",
       "      <th>unit_cogs</th>\n",
       "      <th>net_revenue</th>\n",
       "      <th>gross_revenue</th>\n",
       "      <th>margin_revenue</th>\n",
       "      <th>country</th>\n",
       "      <th>item_name</th>\n",
       "      <th>style</th>\n",
       "      <th>name</th>\n",
       "      <th>group0</th>\n",
       "      <th>group1</th>\n",
       "      <th>category</th>\n",
       "    </tr>\n",
       "  </thead>\n",
       "  <tbody>\n",
       "    <tr>\n",
       "      <th>0</th>\n",
       "      <td>1900052301</td>\n",
       "      <td>2019-06-04</td>\n",
       "      <td>ZB00025746</td>\n",
       "      <td>1</td>\n",
       "      <td>9.412096</td>\n",
       "      <td>0.000000</td>\n",
       "      <td>9.412096</td>\n",
       "      <td>0.000000</td>\n",
       "      <td>9.412096</td>\n",
       "      <td>Romania</td>\n",
       "      <td>YTH LEAGUE KNIT SHORT NB</td>\n",
       "      <td>725990-010</td>\n",
       "      <td>Nike</td>\n",
       "      <td>Apparel</td>\n",
       "      <td>Pants</td>\n",
       "      <td>football</td>\n",
       "    </tr>\n",
       "    <tr>\n",
       "      <th>1</th>\n",
       "      <td>1900100835</td>\n",
       "      <td>2019-07-15</td>\n",
       "      <td>ZB00025746</td>\n",
       "      <td>1</td>\n",
       "      <td>8.648837</td>\n",
       "      <td>5.393411</td>\n",
       "      <td>8.648837</td>\n",
       "      <td>5.393411</td>\n",
       "      <td>3.255426</td>\n",
       "      <td>Czech Republic</td>\n",
       "      <td>YTH LEAGUE KNIT SHORT NB</td>\n",
       "      <td>725990-010</td>\n",
       "      <td>Nike</td>\n",
       "      <td>Apparel</td>\n",
       "      <td>Pants</td>\n",
       "      <td>football</td>\n",
       "    </tr>\n",
       "    <tr>\n",
       "      <th>2</th>\n",
       "      <td>1900106577</td>\n",
       "      <td>2019-07-24</td>\n",
       "      <td>ZB00025746</td>\n",
       "      <td>1</td>\n",
       "      <td>8.648837</td>\n",
       "      <td>5.458527</td>\n",
       "      <td>8.648837</td>\n",
       "      <td>5.458527</td>\n",
       "      <td>3.190310</td>\n",
       "      <td>Czech Republic</td>\n",
       "      <td>YTH LEAGUE KNIT SHORT NB</td>\n",
       "      <td>725990-010</td>\n",
       "      <td>Nike</td>\n",
       "      <td>Apparel</td>\n",
       "      <td>Pants</td>\n",
       "      <td>football</td>\n",
       "    </tr>\n",
       "    <tr>\n",
       "      <th>3</th>\n",
       "      <td>1900111398</td>\n",
       "      <td>2019-08-01</td>\n",
       "      <td>ZB00025746</td>\n",
       "      <td>1</td>\n",
       "      <td>8.648837</td>\n",
       "      <td>5.440310</td>\n",
       "      <td>8.648837</td>\n",
       "      <td>5.440310</td>\n",
       "      <td>3.208527</td>\n",
       "      <td>Czech Republic</td>\n",
       "      <td>YTH LEAGUE KNIT SHORT NB</td>\n",
       "      <td>725990-010</td>\n",
       "      <td>Nike</td>\n",
       "      <td>Apparel</td>\n",
       "      <td>Pants</td>\n",
       "      <td>football</td>\n",
       "    </tr>\n",
       "    <tr>\n",
       "      <th>4</th>\n",
       "      <td>1900052301</td>\n",
       "      <td>2019-06-04</td>\n",
       "      <td>ZB00022010</td>\n",
       "      <td>1</td>\n",
       "      <td>12.784729</td>\n",
       "      <td>4.087597</td>\n",
       "      <td>12.784729</td>\n",
       "      <td>4.087597</td>\n",
       "      <td>8.697132</td>\n",
       "      <td>Romania</td>\n",
       "      <td>NK MERC LT GRD</td>\n",
       "      <td>sp2120-703</td>\n",
       "      <td>Nike</td>\n",
       "      <td>Equipment</td>\n",
       "      <td>Guards</td>\n",
       "      <td>football</td>\n",
       "    </tr>\n",
       "  </tbody>\n",
       "</table>\n",
       "</div>"
      ],
      "text/plain": [
       "     order_id       date   item_code  quantity  unit_price_vat_excl  \\\n",
       "0  1900052301 2019-06-04  ZB00025746         1             9.412096   \n",
       "1  1900100835 2019-07-15  ZB00025746         1             8.648837   \n",
       "2  1900106577 2019-07-24  ZB00025746         1             8.648837   \n",
       "3  1900111398 2019-08-01  ZB00025746         1             8.648837   \n",
       "4  1900052301 2019-06-04  ZB00022010         1            12.784729   \n",
       "\n",
       "   unit_cogs  net_revenue  gross_revenue  margin_revenue         country  \\\n",
       "0   0.000000     9.412096       0.000000        9.412096         Romania   \n",
       "1   5.393411     8.648837       5.393411        3.255426  Czech Republic   \n",
       "2   5.458527     8.648837       5.458527        3.190310  Czech Republic   \n",
       "3   5.440310     8.648837       5.440310        3.208527  Czech Republic   \n",
       "4   4.087597    12.784729       4.087597        8.697132         Romania   \n",
       "\n",
       "                  item_name       style  name     group0  group1  category  \n",
       "0  YTH LEAGUE KNIT SHORT NB  725990-010  Nike    Apparel   Pants  football  \n",
       "1  YTH LEAGUE KNIT SHORT NB  725990-010  Nike    Apparel   Pants  football  \n",
       "2  YTH LEAGUE KNIT SHORT NB  725990-010  Nike    Apparel   Pants  football  \n",
       "3  YTH LEAGUE KNIT SHORT NB  725990-010  Nike    Apparel   Pants  football  \n",
       "4            NK MERC LT GRD  sp2120-703  Nike  Equipment  Guards  football  "
      ]
     },
     "execution_count": 223,
     "metadata": {},
     "output_type": "execute_result"
    }
   ],
   "source": [
    "data.head()"
   ]
  },
  {
   "cell_type": "code",
   "execution_count": 250,
   "metadata": {},
   "outputs": [
    {
     "data": {
      "text/plain": [
       "item_code   quantity  item_name              \n",
       "S101         1        Dopravné                   270119\n",
       "S113         1        Platba                     216556\n",
       "S114        -1        Sleva                       11417\n",
       "ZB00088644   1        M NK DRY PARK20 PANT KP      1102\n",
       "ZB00077277   1        Nike Everyday 3 pack         1077\n",
       "dtype: int64"
      ]
     },
     "execution_count": 250,
     "metadata": {},
     "output_type": "execute_result"
    }
   ],
   "source": [
    "df.head()"
   ]
  },
  {
   "cell_type": "code",
   "execution_count": 251,
   "metadata": {},
   "outputs": [
    {
     "data": {
      "text/html": [
       "<div>\n",
       "<style scoped>\n",
       "    .dataframe tbody tr th:only-of-type {\n",
       "        vertical-align: middle;\n",
       "    }\n",
       "\n",
       "    .dataframe tbody tr th {\n",
       "        vertical-align: top;\n",
       "    }\n",
       "\n",
       "    .dataframe thead th {\n",
       "        text-align: right;\n",
       "    }\n",
       "</style>\n",
       "<table border=\"1\" class=\"dataframe\">\n",
       "  <thead>\n",
       "    <tr style=\"text-align: right;\">\n",
       "      <th></th>\n",
       "      <th>quantity</th>\n",
       "      <th>unit_price_vat_excl</th>\n",
       "      <th>unit_cogs</th>\n",
       "      <th>net_revenue</th>\n",
       "      <th>gross_revenue</th>\n",
       "      <th>margin_revenue</th>\n",
       "    </tr>\n",
       "    <tr>\n",
       "      <th>order_id</th>\n",
       "      <th></th>\n",
       "      <th></th>\n",
       "      <th></th>\n",
       "      <th></th>\n",
       "      <th></th>\n",
       "      <th></th>\n",
       "    </tr>\n",
       "  </thead>\n",
       "  <tbody>\n",
       "    <tr>\n",
       "      <th>1070007158</th>\n",
       "      <td>1</td>\n",
       "      <td>53.166667</td>\n",
       "      <td>52.093798</td>\n",
       "      <td>53.166667</td>\n",
       "      <td>52.093798</td>\n",
       "      <td>1.072868</td>\n",
       "    </tr>\n",
       "    <tr>\n",
       "      <th>1070065544</th>\n",
       "      <td>1</td>\n",
       "      <td>32.040310</td>\n",
       "      <td>10.930233</td>\n",
       "      <td>32.040310</td>\n",
       "      <td>10.930233</td>\n",
       "      <td>21.110077</td>\n",
       "    </tr>\n",
       "    <tr>\n",
       "      <th>1070126816</th>\n",
       "      <td>9</td>\n",
       "      <td>296.104263</td>\n",
       "      <td>296.912791</td>\n",
       "      <td>296.104263</td>\n",
       "      <td>296.912791</td>\n",
       "      <td>-0.808528</td>\n",
       "    </tr>\n",
       "    <tr>\n",
       "      <th>1070129993</th>\n",
       "      <td>1</td>\n",
       "      <td>48.818217</td>\n",
       "      <td>51.688760</td>\n",
       "      <td>48.818217</td>\n",
       "      <td>51.688760</td>\n",
       "      <td>-2.870543</td>\n",
       "    </tr>\n",
       "    <tr>\n",
       "      <th>1070131880</th>\n",
       "      <td>4</td>\n",
       "      <td>163.096511</td>\n",
       "      <td>160.635659</td>\n",
       "      <td>163.096511</td>\n",
       "      <td>160.635659</td>\n",
       "      <td>2.460852</td>\n",
       "    </tr>\n",
       "    <tr>\n",
       "      <th>...</th>\n",
       "      <td>...</td>\n",
       "      <td>...</td>\n",
       "      <td>...</td>\n",
       "      <td>...</td>\n",
       "      <td>...</td>\n",
       "      <td>...</td>\n",
       "    </tr>\n",
       "    <tr>\n",
       "      <th>2100190245</th>\n",
       "      <td>2</td>\n",
       "      <td>82.323337</td>\n",
       "      <td>77.023256</td>\n",
       "      <td>82.323337</td>\n",
       "      <td>77.023256</td>\n",
       "      <td>5.300081</td>\n",
       "    </tr>\n",
       "    <tr>\n",
       "      <th>2100190246</th>\n",
       "      <td>3</td>\n",
       "      <td>147.927519</td>\n",
       "      <td>104.637984</td>\n",
       "      <td>147.927519</td>\n",
       "      <td>104.637984</td>\n",
       "      <td>43.289535</td>\n",
       "    </tr>\n",
       "    <tr>\n",
       "      <th>2100190247</th>\n",
       "      <td>1</td>\n",
       "      <td>79.697674</td>\n",
       "      <td>42.868217</td>\n",
       "      <td>79.697674</td>\n",
       "      <td>42.868217</td>\n",
       "      <td>36.829457</td>\n",
       "    </tr>\n",
       "    <tr>\n",
       "      <th>4900633652</th>\n",
       "      <td>15</td>\n",
       "      <td>332.868217</td>\n",
       "      <td>280.464729</td>\n",
       "      <td>357.209302</td>\n",
       "      <td>296.246124</td>\n",
       "      <td>60.963178</td>\n",
       "    </tr>\n",
       "    <tr>\n",
       "      <th>nan</th>\n",
       "      <td>132</td>\n",
       "      <td>4446.076350</td>\n",
       "      <td>2520.312791</td>\n",
       "      <td>4446.076350</td>\n",
       "      <td>2520.312791</td>\n",
       "      <td>1925.763559</td>\n",
       "    </tr>\n",
       "  </tbody>\n",
       "</table>\n",
       "<p>581644 rows × 6 columns</p>\n",
       "</div>"
      ],
      "text/plain": [
       "            quantity  unit_price_vat_excl    unit_cogs  net_revenue  \\\n",
       "order_id                                                              \n",
       "1070007158         1            53.166667    52.093798    53.166667   \n",
       "1070065544         1            32.040310    10.930233    32.040310   \n",
       "1070126816         9           296.104263   296.912791   296.104263   \n",
       "1070129993         1            48.818217    51.688760    48.818217   \n",
       "1070131880         4           163.096511   160.635659   163.096511   \n",
       "...              ...                  ...          ...          ...   \n",
       "2100190245         2            82.323337    77.023256    82.323337   \n",
       "2100190246         3           147.927519   104.637984   147.927519   \n",
       "2100190247         1            79.697674    42.868217    79.697674   \n",
       "4900633652        15           332.868217   280.464729   357.209302   \n",
       "nan              132          4446.076350  2520.312791  4446.076350   \n",
       "\n",
       "            gross_revenue  margin_revenue  \n",
       "order_id                                   \n",
       "1070007158      52.093798        1.072868  \n",
       "1070065544      10.930233       21.110077  \n",
       "1070126816     296.912791       -0.808528  \n",
       "1070129993      51.688760       -2.870543  \n",
       "1070131880     160.635659        2.460852  \n",
       "...                   ...             ...  \n",
       "2100190245      77.023256        5.300081  \n",
       "2100190246     104.637984       43.289535  \n",
       "2100190247      42.868217       36.829457  \n",
       "4900633652     296.246124       60.963178  \n",
       "nan           2520.312791     1925.763559  \n",
       "\n",
       "[581644 rows x 6 columns]"
      ]
     },
     "execution_count": 251,
     "metadata": {},
     "output_type": "execute_result"
    }
   ],
   "source": [
    "# let's how much sales is correlates with revenues \n",
    "data.groupby(by=['order_id']).sum()"
   ]
  },
  {
   "cell_type": "code",
   "execution_count": null,
   "metadata": {},
   "outputs": [],
   "source": []
  }
 ],
 "metadata": {
  "kernelspec": {
   "display_name": "Python 3",
   "language": "python",
   "name": "python3"
  },
  "language_info": {
   "codemirror_mode": {
    "name": "ipython",
    "version": 3
   },
   "file_extension": ".py",
   "mimetype": "text/x-python",
   "name": "python",
   "nbconvert_exporter": "python",
   "pygments_lexer": "ipython3",
   "version": "3.8.5"
  }
 },
 "nbformat": 4,
 "nbformat_minor": 4
}
